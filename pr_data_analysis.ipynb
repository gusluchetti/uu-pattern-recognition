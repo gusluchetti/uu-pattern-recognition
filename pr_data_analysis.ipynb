{
 "cells": [
  {
   "cell_type": "code",
   "execution_count": 1,
   "id": "6bfe2420",
   "metadata": {
    "scrolled": true
   },
   "outputs": [
    {
     "name": "stdout",
     "output_type": "stream",
     "text": [
      "Defaulting to user installation because normal site-packages is not writeable\n",
      "Requirement already satisfied: opencv-python in /home/sushii/.local/lib/python3.11/site-packages (4.6.0.66)\n",
      "Requirement already satisfied: numpy>=1.21.2 in /usr/lib64/python3.11/site-packages (from opencv-python) (1.22.0)\n"
     ]
    }
   ],
   "source": [
    "import sys\n",
    "!{sys.executable} -m pip install opencv-python"
   ]
  },
  {
   "cell_type": "code",
   "execution_count": 2,
   "id": "ecf506f3",
   "metadata": {
    "scrolled": false
   },
   "outputs": [],
   "source": [
    "import random\n",
    "import numpy as np\n",
    "import pandas as pd\n",
    "import matplotlib.pyplot as plt\n",
    "import seaborn as sns\n",
    "import cv2"
   ]
  },
  {
   "cell_type": "code",
   "execution_count": 3,
   "id": "af6112b5",
   "metadata": {
    "scrolled": true
   },
   "outputs": [],
   "source": [
    "# configuring figure/plot params\n",
    "custom_params = {'figure.figsize':(17,9)} \n",
    "sns.set_theme(style=\"whitegrid\", rc=custom_params)"
   ]
  },
  {
   "cell_type": "code",
   "execution_count": 26,
   "id": "edef0346",
   "metadata": {},
   "outputs": [],
   "source": [
    "# loading dataset (it's a bit slow)\n",
    "mnist_data = pd.read_csv('mnist.csv').values"
   ]
  },
  {
   "cell_type": "code",
   "execution_count": 31,
   "id": "f9814b21",
   "metadata": {
    "scrolled": false
   },
   "outputs": [
    {
     "data": {
      "text/html": [
       "<div>\n",
       "<style scoped>\n",
       "    .dataframe tbody tr th:only-of-type {\n",
       "        vertical-align: middle;\n",
       "    }\n",
       "\n",
       "    .dataframe tbody tr th {\n",
       "        vertical-align: top;\n",
       "    }\n",
       "\n",
       "    .dataframe thead th {\n",
       "        text-align: right;\n",
       "    }\n",
       "</style>\n",
       "<table border=\"1\" class=\"dataframe\">\n",
       "  <thead>\n",
       "    <tr style=\"text-align: right;\">\n",
       "      <th></th>\n",
       "      <th>0</th>\n",
       "      <th>1</th>\n",
       "      <th>2</th>\n",
       "      <th>3</th>\n",
       "      <th>4</th>\n",
       "      <th>5</th>\n",
       "      <th>6</th>\n",
       "      <th>7</th>\n",
       "      <th>8</th>\n",
       "      <th>9</th>\n",
       "      <th>...</th>\n",
       "      <th>775</th>\n",
       "      <th>776</th>\n",
       "      <th>777</th>\n",
       "      <th>778</th>\n",
       "      <th>779</th>\n",
       "      <th>780</th>\n",
       "      <th>781</th>\n",
       "      <th>782</th>\n",
       "      <th>783</th>\n",
       "      <th>784</th>\n",
       "    </tr>\n",
       "  </thead>\n",
       "  <tbody>\n",
       "    <tr>\n",
       "      <th>0</th>\n",
       "      <td>1</td>\n",
       "      <td>0</td>\n",
       "      <td>0</td>\n",
       "      <td>0</td>\n",
       "      <td>0</td>\n",
       "      <td>0</td>\n",
       "      <td>0</td>\n",
       "      <td>0</td>\n",
       "      <td>0</td>\n",
       "      <td>0</td>\n",
       "      <td>...</td>\n",
       "      <td>0</td>\n",
       "      <td>0</td>\n",
       "      <td>0</td>\n",
       "      <td>0</td>\n",
       "      <td>0</td>\n",
       "      <td>0</td>\n",
       "      <td>0</td>\n",
       "      <td>0</td>\n",
       "      <td>0</td>\n",
       "      <td>0</td>\n",
       "    </tr>\n",
       "    <tr>\n",
       "      <th>1</th>\n",
       "      <td>0</td>\n",
       "      <td>0</td>\n",
       "      <td>0</td>\n",
       "      <td>0</td>\n",
       "      <td>0</td>\n",
       "      <td>0</td>\n",
       "      <td>0</td>\n",
       "      <td>0</td>\n",
       "      <td>0</td>\n",
       "      <td>0</td>\n",
       "      <td>...</td>\n",
       "      <td>0</td>\n",
       "      <td>0</td>\n",
       "      <td>0</td>\n",
       "      <td>0</td>\n",
       "      <td>0</td>\n",
       "      <td>0</td>\n",
       "      <td>0</td>\n",
       "      <td>0</td>\n",
       "      <td>0</td>\n",
       "      <td>0</td>\n",
       "    </tr>\n",
       "    <tr>\n",
       "      <th>2</th>\n",
       "      <td>1</td>\n",
       "      <td>0</td>\n",
       "      <td>0</td>\n",
       "      <td>0</td>\n",
       "      <td>0</td>\n",
       "      <td>0</td>\n",
       "      <td>0</td>\n",
       "      <td>0</td>\n",
       "      <td>0</td>\n",
       "      <td>0</td>\n",
       "      <td>...</td>\n",
       "      <td>0</td>\n",
       "      <td>0</td>\n",
       "      <td>0</td>\n",
       "      <td>0</td>\n",
       "      <td>0</td>\n",
       "      <td>0</td>\n",
       "      <td>0</td>\n",
       "      <td>0</td>\n",
       "      <td>0</td>\n",
       "      <td>0</td>\n",
       "    </tr>\n",
       "    <tr>\n",
       "      <th>3</th>\n",
       "      <td>4</td>\n",
       "      <td>0</td>\n",
       "      <td>0</td>\n",
       "      <td>0</td>\n",
       "      <td>0</td>\n",
       "      <td>0</td>\n",
       "      <td>0</td>\n",
       "      <td>0</td>\n",
       "      <td>0</td>\n",
       "      <td>0</td>\n",
       "      <td>...</td>\n",
       "      <td>0</td>\n",
       "      <td>0</td>\n",
       "      <td>0</td>\n",
       "      <td>0</td>\n",
       "      <td>0</td>\n",
       "      <td>0</td>\n",
       "      <td>0</td>\n",
       "      <td>0</td>\n",
       "      <td>0</td>\n",
       "      <td>0</td>\n",
       "    </tr>\n",
       "    <tr>\n",
       "      <th>4</th>\n",
       "      <td>0</td>\n",
       "      <td>0</td>\n",
       "      <td>0</td>\n",
       "      <td>0</td>\n",
       "      <td>0</td>\n",
       "      <td>0</td>\n",
       "      <td>0</td>\n",
       "      <td>0</td>\n",
       "      <td>0</td>\n",
       "      <td>0</td>\n",
       "      <td>...</td>\n",
       "      <td>0</td>\n",
       "      <td>0</td>\n",
       "      <td>0</td>\n",
       "      <td>0</td>\n",
       "      <td>0</td>\n",
       "      <td>0</td>\n",
       "      <td>0</td>\n",
       "      <td>0</td>\n",
       "      <td>0</td>\n",
       "      <td>0</td>\n",
       "    </tr>\n",
       "  </tbody>\n",
       "</table>\n",
       "<p>5 rows × 785 columns</p>\n",
       "</div>"
      ],
      "text/plain": [
       "   0    1    2    3    4    5    6    7    8    9    ...  775  776  777  778  \\\n",
       "0    1    0    0    0    0    0    0    0    0    0  ...    0    0    0    0   \n",
       "1    0    0    0    0    0    0    0    0    0    0  ...    0    0    0    0   \n",
       "2    1    0    0    0    0    0    0    0    0    0  ...    0    0    0    0   \n",
       "3    4    0    0    0    0    0    0    0    0    0  ...    0    0    0    0   \n",
       "4    0    0    0    0    0    0    0    0    0    0  ...    0    0    0    0   \n",
       "\n",
       "   779  780  781  782  783  784  \n",
       "0    0    0    0    0    0    0  \n",
       "1    0    0    0    0    0    0  \n",
       "2    0    0    0    0    0    0  \n",
       "3    0    0    0    0    0    0  \n",
       "4    0    0    0    0    0    0  \n",
       "\n",
       "[5 rows x 785 columns]"
      ]
     },
     "execution_count": 31,
     "metadata": {},
     "output_type": "execute_result"
    }
   ],
   "source": [
    "labels = mnist_data[:, 0]  # 0 to 9\n",
    "digits = mnist_data[:, 1:] # 42000 digits\n",
    "mnist_df = pd.DataFrame(mnist_data)\n",
    "mnist_df.head()\n",
    "# first column is label, all (784) other columns are pixel values (0-255)"
   ]
  },
  {
   "cell_type": "code",
   "execution_count": 59,
   "id": "0d1e9d87",
   "metadata": {},
   "outputs": [],
   "source": [
    "# randomly print one number from each class\n",
    "def print_one_from_each(digits, img_size):\n",
    "    fig = plt.figure(figsize=(26,13))\n",
    "    cols, rows = 5, 2\n",
    "    for i in range(1, (cols*rows)+1):\n",
    "        fig.add_subplot(rows, cols, i)\n",
    "        number = f\"{i-1}\"\n",
    "        index = np.argmax(mnist_df[:,0] == number)\n",
    "        print(number, index)\n",
    "        plt.imshow(digits[index].reshape(img_size, img_size))\n",
    "        plt.xlabel(str(labels[index]))\n",
    "    plt.show()"
   ]
  },
  {
   "cell_type": "markdown",
   "id": "361f6338",
   "metadata": {},
   "source": [
    "# Data Exploration / Pre-Processing\n",
    "Exploring data and plotting cool stuff"
   ]
  },
  {
   "cell_type": "code",
   "execution_count": 46,
   "id": "6aa02fee",
   "metadata": {
    "scrolled": false
   },
   "outputs": [
    {
     "data": {
      "image/png": "[encoded data removed]",
      "text/plain": [
       "<Figure size 1872x936 with 10 Axes>"
      ]
     },
     "metadata": {
      "needs_background": "light"
     },
     "output_type": "display_data"
    }
   ],
   "source": [
    "img_size = 28\n",
    "fig = plt.figure(figsize=(26,13))\n",
    "columns = 5\n",
    "rows = 2\n",
    "\n",
    "for i in range(1, columns*rows +1):\n",
    "    fig.add_subplot(rows, columns, i)\n",
    "    random_index = random.randrange(0, len(digits))\n",
    "    plt.imshow(digits[random_index].reshape(img_size, img_size))\n",
    "    plt.xlabel(str(labels[random_index]))\n",
    "plt.show()"
   ]
  },
  {
   "cell_type": "code",
   "execution_count": 60,
   "id": "42d85e76",
   "metadata": {},
   "outputs": [
    {
     "ename": "KeyError",
     "evalue": "(slice(None, None, None), 0)",
     "output_type": "error",
     "traceback": [
      "\u001b[0;31m---------------------------------------------------------------------------\u001b[0m",
      "\u001b[0;31mKeyError\u001b[0m                                  Traceback (most recent call last)",
      "Cell \u001b[0;32mIn [60], line 1\u001b[0m\n\u001b[0;32m----> 1\u001b[0m print_one_from_each(digits, \u001b[38;5;241m28\u001b[39m)\n",
      "Cell \u001b[0;32mIn [59], line 8\u001b[0m, in \u001b[0;36mprint_one_from_each\u001b[0;34m(digits, img_size)\u001b[0m\n\u001b[1;32m      6\u001b[0m fig\u001b[38;5;241m.\u001b[39madd_subplot(rows, cols, i)\n\u001b[1;32m      7\u001b[0m number \u001b[38;5;241m=\u001b[39m \u001b[38;5;124mf\u001b[39m\u001b[38;5;124m\"\u001b[39m\u001b[38;5;132;01m{\u001b[39;00mi\u001b[38;5;241m-\u001b[39m\u001b[38;5;241m1\u001b[39m\u001b[38;5;132;01m}\u001b[39;00m\u001b[38;5;124m\"\u001b[39m\n\u001b[0;32m----> 8\u001b[0m index \u001b[38;5;241m=\u001b[39m np\u001b[38;5;241m.\u001b[39margmax(\u001b[43mmnist_df\u001b[49m\u001b[43m[\u001b[49m\u001b[43m:\u001b[49m\u001b[43m,\u001b[49m\u001b[38;5;241;43m0\u001b[39;49m\u001b[43m]\u001b[49m \u001b[38;5;241m==\u001b[39m number)\n\u001b[1;32m      9\u001b[0m \u001b[38;5;28mprint\u001b[39m(number, index)\n\u001b[1;32m     10\u001b[0m plt\u001b[38;5;241m.\u001b[39mimshow(digits[index]\u001b[38;5;241m.\u001b[39mreshape(img_size, img_size))\n",
      "File \u001b[0;32m/usr/lib64/python3.11/site-packages/pandas/core/frame.py:3458\u001b[0m, in \u001b[0;36mDataFrame.__getitem__\u001b[0;34m(self, key)\u001b[0m\n\u001b[1;32m   3456\u001b[0m \u001b[38;5;28;01mif\u001b[39;00m \u001b[38;5;28mself\u001b[39m\u001b[38;5;241m.\u001b[39mcolumns\u001b[38;5;241m.\u001b[39mnlevels \u001b[38;5;241m>\u001b[39m \u001b[38;5;241m1\u001b[39m:\n\u001b[1;32m   3457\u001b[0m     \u001b[38;5;28;01mreturn\u001b[39;00m \u001b[38;5;28mself\u001b[39m\u001b[38;5;241m.\u001b[39m_getitem_multilevel(key)\n\u001b[0;32m-> 3458\u001b[0m indexer \u001b[38;5;241m=\u001b[39m \u001b[38;5;28;43mself\u001b[39;49m\u001b[38;5;241;43m.\u001b[39;49m\u001b[43mcolumns\u001b[49m\u001b[38;5;241;43m.\u001b[39;49m\u001b[43mget_loc\u001b[49m\u001b[43m(\u001b[49m\u001b[43mkey\u001b[49m\u001b[43m)\u001b[49m\n\u001b[1;32m   3459\u001b[0m \u001b[38;5;28;01mif\u001b[39;00m is_integer(indexer):\n\u001b[1;32m   3460\u001b[0m     indexer \u001b[38;5;241m=\u001b[39m [indexer]\n",
      "File \u001b[0;32m/usr/lib64/python3.11/site-packages/pandas/core/indexes/range.py:388\u001b[0m, in \u001b[0;36mRangeIndex.get_loc\u001b[0;34m(self, key, method, tolerance)\u001b[0m\n\u001b[1;32m    386\u001b[0m         \u001b[38;5;28;01mexcept\u001b[39;00m \u001b[38;5;167;01mValueError\u001b[39;00m \u001b[38;5;28;01mas\u001b[39;00m err:\n\u001b[1;32m    387\u001b[0m             \u001b[38;5;28;01mraise\u001b[39;00m \u001b[38;5;167;01mKeyError\u001b[39;00m(key) \u001b[38;5;28;01mfrom\u001b[39;00m \u001b[38;5;21;01merr\u001b[39;00m\n\u001b[0;32m--> 388\u001b[0m     \u001b[38;5;28;01mraise\u001b[39;00m \u001b[38;5;167;01mKeyError\u001b[39;00m(key)\n\u001b[1;32m    389\u001b[0m \u001b[38;5;28;01mreturn\u001b[39;00m \u001b[38;5;28msuper\u001b[39m()\u001b[38;5;241m.\u001b[39mget_loc(key, method\u001b[38;5;241m=\u001b[39mmethod, tolerance\u001b[38;5;241m=\u001b[39mtolerance)\n",
      "\u001b[0;31mKeyError\u001b[0m: (slice(None, None, None), 0)"
     ]
    },
    {
     "data": {
      "image/png": "[encoded data removed]",
      "text/plain": [
       "<Figure size 1872x936 with 1 Axes>"
      ]
     },
     "metadata": {
      "needs_background": "light"
     },
     "output_type": "display_data"
    }
   ],
   "source": [
    "print_one_from_each(digits, 28)"
   ]
  },
  {
   "cell_type": "code",
   "execution_count": 6,
   "id": "ce092cbd",
   "metadata": {
    "scrolled": false
   },
   "outputs": [
    {
     "data": {
      "image/png": "[encoded data removed]",
      "text/plain": [
       "<Figure size 432x288 with 1 Axes>"
      ]
     },
     "metadata": {
      "needs_background": "light"
     },
     "output_type": "display_data"
    }
   ],
   "source": [
    "unique, counts = np.unique(labels, return_counts=True)\n",
    "ax = sns.barplot(x=unique,y=counts)\n",
    "ax.bar_label(ax.containers[0])\n",
    "plt.title(\"Class distribution for edited MNIST dataset\")\n",
    "plt.ylabel(\"Counts\")\n",
    "plt.xlabel(\"Numbers\")\n",
    "plt.show()"
   ]
  },
  {
   "cell_type": "code",
   "execution_count": 7,
   "id": "2111d351",
   "metadata": {},
   "outputs": [],
   "source": [
    "digitsResized = np.zeros((len(digits), 14*14))\n",
    "\n",
    "for i, d in enumerate(digits):\n",
    "    _d = np.reshape(d, (28, 28)).astype('float32')\n",
    "    resized_d = cv2.resize(_d, (14, 14))\n",
    "    d_ = np.reshape(resized_d, (1, 14*14))\n",
    "    digitsResized[i] = d_\n",
    "\n",
    "# print('Digits resized', np.shape(digitsResized))"
   ]
  },
  {
   "cell_type": "code",
   "execution_count": 8,
   "id": "7779e13a",
   "metadata": {},
   "outputs": [
    {
     "data": {
      "image/png": "[encoded data removed]",
      "text/plain": [
       "<Figure size 1872x936 with 10 Axes>"
      ]
     },
     "metadata": {
      "needs_background": "light"
     },
     "output_type": "display_data"
    }
   ],
   "source": [
    "# Visually sampling the data\n",
    "\n",
    "img_size = 14\n",
    "columns = 5\n",
    "rows = 2\n",
    "fig = plt.figure(figsize=(26,13))\n",
    "\n",
    "for i in range(1, columns*rows +1):\n",
    "    fig.add_subplot(rows, columns, i)\n",
    "    random_index = random.randrange(0, len(digitsResized))\n",
    "    plt.imshow(digitsResized[random_index].reshape(img_size, img_size))\n",
    "    plt.xlabel(str(labels[random_index]))\n",
    "\n",
    "plt.show()"
   ]
  },
  {
   "cell_type": "markdown",
   "id": "ecc9fac9",
   "metadata": {},
   "source": [
    "#### Drop useless features\n",
    "\n",
    "Useless features are those with constant values across all data points, hence cannot be used to distinguish between data."
   ]
  },
  {
   "cell_type": "code",
   "execution_count": 9,
   "id": "3b49515b",
   "metadata": {},
   "outputs": [],
   "source": [
    "def filterConstantFeature(matrix, idx):\n",
    "    return False if np.var(matrix[:, idx]) == 0.0 else True\n",
    "\n",
    "\n",
    "cols_digits = list(range(0, len(digits[0])))\n",
    "usefulCols_digits = [filterConstantFeature(digits, i) for i in cols_digits]\n",
    "digitsFiltered = digits[:, usefulCols_digits]\n",
    "\n",
    "cols_digitsResized = list(range(0, len(digitsResized[0])))\n",
    "usefulCols_digitsResized = [filterConstantFeature(digitsResized, i) for i in cols_digitsResized]\n",
    "digitsResizedFiltered = digitsResized[:, usefulCols_digitsResized]     # DATA: digits -> resized to 14x14 -> dropped constant features.\n",
    "\n",
    "# print(np.shape(digitsResized))\n",
    "# print(np.shape(digitsResizedFiltered))"
   ]
  },
  {
   "cell_type": "code",
   "execution_count": 22,
   "id": "7b7b6e74",
   "metadata": {},
   "outputs": [],
   "source": [
    "# given some restriction on later parts of the assignment, I've opted to train ALL\n",
    "# models with said restrictions; those being \n",
    "# - only training on 5000 samples\n",
    "# - testing on the remaining (37000) samples\n",
    "\n",
    "# let's see how that works out!"
   ]
  },
  {
   "cell_type": "markdown",
   "id": "f755344f",
   "metadata": {},
   "source": [
    "# Part 1. INK Feature Models\n",
    "- Model 1. (Zero mean and SD=1) Multinomial Logit -> Ink Feature\n",
    "- Model 2. (Zero mean and SD=1) MN Logit -> Ink Feature + Our own special feature"
   ]
  },
  {
   "cell_type": "code",
   "execution_count": 19,
   "id": "1f9ad8b3",
   "metadata": {},
   "outputs": [],
   "source": [
    "def print_feature(feat, feat_mean, feat_std):\n",
    "    print(f\"{feat}\\n{feat_mean}\\n{feat_std}\\n\")\n",
    "    print(f\"{np.size(feat)}, {np.size(feat_mean)}, {np.size(feat_std)}\")"
   ]
  },
  {
   "cell_type": "code",
   "execution_count": 20,
   "id": "cf8ba256",
   "metadata": {
    "scrolled": false
   },
   "outputs": [
    {
     "name": "stdout",
     "output_type": "stream",
     "text": [
      "[16649 44609 13425 ... 31504 26381 18178]\n",
      "[34632.40755082285, 15188.466268146884, 29871.099353603066, 28320.188002757986, 24232.72249508841, 25835.920421607378, 27734.917331399563, 22931.244262667577, 30184.148412503077, 24553.75]\n",
      "[8461.892043158483, 4409.461697281539, 7653.006198983366, 7574.104535679545, 6374.633457092554, 7526.602988920305, 7530.503187255003, 6168.3408781754315, 7777.396357381105, 6465.231330430596]\n",
      "\n",
      "42000, 10, 10\n"
     ]
    }
   ],
   "source": [
    "# creating ink feature\n",
    "ink = np.array([sum(row) for row in digits])\n",
    "ink_mean = [np.mean(ink[labels == i]) for i in range(10)] # mean for each digit\n",
    "ink_std = [np.std(ink[labels == i]) for i in range(10)] # std for each digit\n",
    "print_feature(ink, ink_mean, ink_std)"
   ]
  },
  {
   "cell_type": "code",
   "execution_count": 12,
   "id": "66324757",
   "metadata": {
    "scrolled": false
   },
   "outputs": [
    {
     "name": "stdout",
     "output_type": "stream",
     "text": [
      "[-1.09834377  2.11949181 -1.46938461 ...  0.61127524  0.02168398\n",
      " -0.92237558]\n"
     ]
    }
   ],
   "source": [
    "# i didn't see much difference between scaled and non-scaled ink\n",
    "scaled_ink = (ink - np.mean(ink)) / np.std(ink)\n",
    "print(scaled_ink)"
   ]
  },
  {
   "cell_type": "code",
   "execution_count": 13,
   "id": "83606214",
   "metadata": {},
   "outputs": [],
   "source": [
    "# our new feature - whitespace between numbers\n",
    "# not just the opposite of ink, but the whitespace between a digit's\n",
    "# rows and columns; 0 has a LOT of whitespace, 1 doesn´t have that much\n",
    "def get_whitespace_feature(digits):\n",
    "    ws = np.zeros(len(digits))\n",
    "    \n",
    "    print(ws)\n",
    "    return ws"
   ]
  },
  {
   "cell_type": "code",
   "execution_count": 21,
   "id": "fcacd060",
   "metadata": {
    "scrolled": false
   },
   "outputs": [
    {
     "name": "stdout",
     "output_type": "stream",
     "text": [
      "[0. 0. 0. ... 0. 0. 0.]\n",
      "[0. 0. 0. ... 0. 0. 0.]\n",
      "[34632.40755082285, 15188.466268146884, 29871.099353603066, 28320.188002757986, 24232.72249508841, 25835.920421607378, 27734.917331399563, 22931.244262667577, 30184.148412503077, 24553.75]\n",
      "[8461.892043158483, 4409.461697281539, 7653.006198983366, 7574.104535679545, 6374.633457092554, 7526.602988920305, 7530.503187255003, 6168.3408781754315, 7777.396357381105, 6465.231330430596]\n",
      "\n",
      "42000, 10, 10\n"
     ]
    }
   ],
   "source": [
    "ws = get_whitespace_feature(digits)\n",
    "ws_mean = [np.mean(ink[labels == i]) for i in range(10)] # mean for each digit\n",
    "ws_std = [np.std(ink[labels == i]) for i in range(10)] # sd for each digit\n",
    "print_feature(ws, ws_mean, ws_std)"
   ]
  },
  {
   "cell_type": "code",
   "execution_count": 15,
   "id": "32a5dcdc",
   "metadata": {
    "scrolled": false
   },
   "outputs": [],
   "source": [
    "# setting up pipeline to facilitate modelling\n",
    "# and consolidate training and testing datasets\n",
    "# https://scikit-learn.org/stable/modules/preprocessing.html#preprocessing-scaler\n",
    "\n",
    "from sklearn.datasets import make_classification\n",
    "from sklearn.linear_model import LogisticRegression\n",
    "from sklearn.model_selection import train_test_split\n",
    "from sklearn.pipeline import make_pipeline\n",
    "from sklearn.preprocessing import StandardScaler\n",
    "\n",
    "X = ink.reshape(-1, 1) # reshaping since it's a single feature\n",
    "y = labels\n",
    "# I know the instructions mention we don´t need to do this now,\n",
    "# but I´d rather keep all models (reasonably) consistent\n",
    "X_train, X_test, y_train, y_test = train_test_split(X, y, \n",
    "                                                    random_state=42, \n",
    "                                                    test_size=0.30)\n",
    "\n",
    "# this pipeline logic is so we don´t leak data from the test set into the training set\n",
    "scaled_logit = make_pipeline(StandardScaler(), LogisticRegression())\n",
    "scaled_logit.fit(X_train, y_train)  # apply scaling on training data\n",
    "scaled_logit.score(X_test, y_test)\n",
    "y_pred = scaled_logit.predict(X_test)"
   ]
  },
  {
   "cell_type": "code",
   "execution_count": 16,
   "id": "bcc40798",
   "metadata": {},
   "outputs": [],
   "source": [
    "from sklearn.metrics import classification_report\n",
    "from sklearn.datasets import make_classification\n",
    "from sklearn.metrics import confusion_matrix, ConfusionMatrixDisplay\n",
    "\n",
    "def show_results(model_desc, y_test, y_pred):\n",
    "    print(f\"\\nResults for {model_desc}\\n\")\n",
    "    print(classification_report(y_test, y_pred, zero_division=0)) # hiding zero division warn\n",
    "    cm = confusion_matrix(y_test, y_pred, labels=scaled_logit.classes_)\n",
    "    disp = ConfusionMatrixDisplay(confusion_matrix=cm, display_labels=scaled_logit.classes_)\n",
    "    disp.plot()\n",
    "    plt.show()"
   ]
  },
  {
   "cell_type": "code",
   "execution_count": 17,
   "id": "c8d7a40b",
   "metadata": {},
   "outputs": [
    {
     "name": "stdout",
     "output_type": "stream",
     "text": [
      "\n",
      "Results for MN LOGIT - INK FEATURE\n",
      "\n",
      "              precision    recall  f1-score   support\n",
      "\n",
      "           0       0.24      0.59      0.34      1200\n",
      "           1       0.43      0.82      0.57      1389\n",
      "           2       0.15      0.06      0.08      1294\n",
      "           3       0.13      0.24      0.17      1355\n",
      "           4       0.00      0.00      0.00      1222\n",
      "           5       0.00      0.00      0.00      1085\n",
      "           6       0.00      0.00      0.00      1256\n",
      "           7       0.15      0.33      0.21      1359\n",
      "           8       0.05      0.00      0.00      1209\n",
      "           9       0.14      0.12      0.13      1231\n",
      "\n",
      "    accuracy                           0.23     12600\n",
      "   macro avg       0.13      0.22      0.15     12600\n",
      "weighted avg       0.14      0.23      0.16     12600\n",
      "\n"
     ]
    },
    {
     "data": {
      "image/png": "[encoded data removed]",
      "text/plain": [
       "<Figure size 432x288 with 2 Axes>"
      ]
     },
     "metadata": {
      "needs_background": "light"
     },
     "output_type": "display_data"
    }
   ],
   "source": [
    "show_results(\"MN LOGIT - INK FEATURE\", y_test, y_pred)"
   ]
  },
  {
   "cell_type": "markdown",
   "id": "fb947b1b",
   "metadata": {},
   "source": [
    "# Part 2. All Pixel Values Models\n",
    "_**NOTE: Both with 784(14*14 pixels) features (all pixel values)**_\n",
    "\n",
    "- Model 3. (Regularized?) MN Logit (w/ LASSO penalty) \n",
    "- Model 4. Support Vector Machines (SVM)"
   ]
  },
  {
   "cell_type": "markdown",
   "id": "21bf13a3",
   "metadata": {},
   "source": [
    "### MN Logit (w/ LASSO penalty)"
   ]
  },
  {
   "cell_type": "code",
   "execution_count": 18,
   "id": "f5300729",
   "metadata": {
    "scrolled": true
   },
   "outputs": [
    {
     "ename": "NameError",
     "evalue": "name 'sklearn' is not defined",
     "output_type": "error",
     "traceback": [
      "\u001b[0;31m---------------------------------------------------------------------------\u001b[0m",
      "\u001b[0;31mNameError\u001b[0m                                 Traceback (most recent call last)",
      "Cell \u001b[0;32mIn [18], line 3\u001b[0m\n\u001b[1;32m      1\u001b[0m \u001b[38;5;66;03m# find a way to remove all pixels that always have constant value\u001b[39;00m\n\u001b[0;32m----> 3\u001b[0m logreg \u001b[38;5;241m=\u001b[39m sklearn\u001b[38;5;241m.\u001b[39mlinear_model\u001b[38;5;241m.\u001b[39mLogisticRegression(penalty\u001b[38;5;241m=\u001b[39m\u001b[38;5;124m'\u001b[39m\u001b[38;5;124ml1\u001b[39m\u001b[38;5;124m'\u001b[39m, c\u001b[38;5;241m=\u001b[39m\u001b[38;5;241m1\u001b[39m,solver\u001b[38;5;241m=\u001b[39m\u001b[38;5;124m'\u001b[39m\u001b[38;5;124msaga\u001b[39m\u001b[38;5;124m'\u001b[39m)\n",
      "\u001b[0;31mNameError\u001b[0m: name 'sklearn' is not defined"
     ]
    }
   ],
   "source": [
    "# find a way to remove all pixels that always have constant value\n",
    "\n",
    "logreg = sklearn.linear_model.LogisticRegression(penalty='l1', c=1,solver='saga')\n",
    "# saga is the only solver that supports l1 penalty and multi-class problems\n",
    "#arr = np.array([ink_mean, ink_std])\n",
    "#print(pd.DataFrame(arr))\n",
    "#print(df.loc[:, (df.sum() > 0).all()])"
   ]
  },
  {
   "cell_type": "markdown",
   "id": "d4c6ae3f",
   "metadata": {},
   "source": [
    "### SVM + Grid Search -> All Pixel Values"
   ]
  },
  {
   "cell_type": "code",
   "execution_count": null,
   "id": "f8ed033b",
   "metadata": {},
   "outputs": [],
   "source": [
    "from sklearn.model_selection import GridSearchCV\n",
    "from sklearn.svm import SVC\n",
    "from tqdm import tqdm\n",
    "\n",
    "\n",
    "# === Note on kernels and params ===\n",
    "\n",
    "# rbf: gamma\n",
    "# linear: x, x'\n",
    "# sigmoid: coef0\n",
    "# poly: degree, coef0\n",
    "#   but coef0 can be safely left unchanged \"in most cases\" according to \n",
    "# https://stackoverflow.com/questions/21390570/scikit-learn-svc-coef0-parameter-range\n",
    "\n",
    "paramGrid = {\n",
    "    'kernel': ['rbf', 'poly', 'linear', 'sigmoid'],\n",
    "    'C': [0.1, 0.5, 0.9, 1.5, 2, 2.5],\n",
    "    'degree': [0.5, 1, 2, 5],\n",
    "    'gamma': ['auto', 'scale'],\n",
    "}\n",
    "\n",
    "grid = GridSearchCV(SVC(), paramGrid, refit=True, verbose=3)\n",
    "grid.fit(X_train2_std, y_train2)"
   ]
  }
 ],
 "metadata": {
  "kernelspec": {
   "display_name": "Python 3 (ipykernel)",
   "language": "python",
   "name": "python3"
  },
  "language_info": {
   "codemirror_mode": {
    "name": "ipython",
    "version": 3
   },
   "file_extension": ".py",
   "mimetype": "text/x-python",
   "name": "python",
   "nbconvert_exporter": "python",
   "pygments_lexer": "ipython3",
   "version": "3.11.0"
  }
 },
 "nbformat": 4,
 "nbformat_minor": 5
}

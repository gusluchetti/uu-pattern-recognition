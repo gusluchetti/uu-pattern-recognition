{
 "cells": [
  {
   "cell_type": "code",
   "execution_count": 11,
   "id": "084327a7",
   "metadata": {},
   "outputs": [
    {
     "name": "stdout",
     "output_type": "stream",
     "text": [
      "Defaulting to user installation because normal site-packages is not writeable\n",
      "Collecting opencv-python\n",
      "  Downloading opencv_python-4.6.0.66-cp36-abi3-manylinux_2_17_x86_64.manylinux2014_x86_64.whl (60.9 MB)\n",
      "\u001b[2K     \u001b[38;2;114;156;31m━━━━━━━━━━━━━━━━━━━━━━━━━━━━━━━━━━━━━━━━\u001b[0m \u001b[32m60.9/60.9 MB\u001b[0m \u001b[31m7.1 MB/s\u001b[0m eta \u001b[36m0:00:00\u001b[0mm eta \u001b[36m0:00:01\u001b[0m[36m0:00:01\u001b[0m\n",
      "\u001b[?25hRequirement already satisfied: numpy>=1.21.2 in /usr/lib64/python3.11/site-packages (from opencv-python) (1.22.0)\n",
      "Installing collected packages: opencv-python\n",
      "Successfully installed opencv-python-4.6.0.66\n"
     ]
    }
   ],
   "source": [
    "import sys\n",
    "!{sys.executable} -m pip install opencv-python"
   ]
  },
  {
   "cell_type": "code",
   "execution_count": 12,
   "id": "ecf506f3",
   "metadata": {
    "scrolled": false
   },
   "outputs": [],
   "source": [
    "import random\n",
    "import numpy as np\n",
    "import pandas as pd\n",
    "import matplotlib.pyplot as plt\n",
    "import seaborn as sns\n",
    "import cv2"
   ]
  },
  {
   "cell_type": "code",
   "execution_count": 13,
   "id": "af6112b5",
   "metadata": {
    "scrolled": true
   },
   "outputs": [],
   "source": [
    "# configuring figure/plot params\n",
    "custom_params = {'figure.figsize':(17,9)} \n",
    "sns.set_theme(style=\"whitegrid\", rc=custom_params)"
   ]
  },
  {
   "cell_type": "code",
   "execution_count": 3,
   "id": "f9814b21",
   "metadata": {
    "scrolled": false
   },
   "outputs": [
    {
     "data": {
      "text/html": [
       "<div>\n",
       "<style scoped>\n",
       "    .dataframe tbody tr th:only-of-type {\n",
       "        vertical-align: middle;\n",
       "    }\n",
       "\n",
       "    .dataframe tbody tr th {\n",
       "        vertical-align: top;\n",
       "    }\n",
       "\n",
       "    .dataframe thead th {\n",
       "        text-align: right;\n",
       "    }\n",
       "</style>\n",
       "<table border=\"1\" class=\"dataframe\">\n",
       "  <thead>\n",
       "    <tr style=\"text-align: right;\">\n",
       "      <th></th>\n",
       "      <th>0</th>\n",
       "      <th>1</th>\n",
       "      <th>2</th>\n",
       "      <th>3</th>\n",
       "      <th>4</th>\n",
       "      <th>5</th>\n",
       "      <th>6</th>\n",
       "      <th>7</th>\n",
       "      <th>8</th>\n",
       "      <th>9</th>\n",
       "      <th>...</th>\n",
       "      <th>775</th>\n",
       "      <th>776</th>\n",
       "      <th>777</th>\n",
       "      <th>778</th>\n",
       "      <th>779</th>\n",
       "      <th>780</th>\n",
       "      <th>781</th>\n",
       "      <th>782</th>\n",
       "      <th>783</th>\n",
       "      <th>784</th>\n",
       "    </tr>\n",
       "  </thead>\n",
       "  <tbody>\n",
       "    <tr>\n",
       "      <th>count</th>\n",
       "      <td>42000.000000</td>\n",
       "      <td>42000.0</td>\n",
       "      <td>42000.0</td>\n",
       "      <td>42000.0</td>\n",
       "      <td>42000.0</td>\n",
       "      <td>42000.0</td>\n",
       "      <td>42000.0</td>\n",
       "      <td>42000.0</td>\n",
       "      <td>42000.0</td>\n",
       "      <td>42000.0</td>\n",
       "      <td>...</td>\n",
       "      <td>42000.000000</td>\n",
       "      <td>42000.000000</td>\n",
       "      <td>42000.000000</td>\n",
       "      <td>42000.00000</td>\n",
       "      <td>42000.000000</td>\n",
       "      <td>42000.000000</td>\n",
       "      <td>42000.0</td>\n",
       "      <td>42000.0</td>\n",
       "      <td>42000.0</td>\n",
       "      <td>42000.0</td>\n",
       "    </tr>\n",
       "    <tr>\n",
       "      <th>mean</th>\n",
       "      <td>4.456643</td>\n",
       "      <td>0.0</td>\n",
       "      <td>0.0</td>\n",
       "      <td>0.0</td>\n",
       "      <td>0.0</td>\n",
       "      <td>0.0</td>\n",
       "      <td>0.0</td>\n",
       "      <td>0.0</td>\n",
       "      <td>0.0</td>\n",
       "      <td>0.0</td>\n",
       "      <td>...</td>\n",
       "      <td>0.219286</td>\n",
       "      <td>0.117095</td>\n",
       "      <td>0.059024</td>\n",
       "      <td>0.02019</td>\n",
       "      <td>0.017238</td>\n",
       "      <td>0.002857</td>\n",
       "      <td>0.0</td>\n",
       "      <td>0.0</td>\n",
       "      <td>0.0</td>\n",
       "      <td>0.0</td>\n",
       "    </tr>\n",
       "    <tr>\n",
       "      <th>std</th>\n",
       "      <td>2.887730</td>\n",
       "      <td>0.0</td>\n",
       "      <td>0.0</td>\n",
       "      <td>0.0</td>\n",
       "      <td>0.0</td>\n",
       "      <td>0.0</td>\n",
       "      <td>0.0</td>\n",
       "      <td>0.0</td>\n",
       "      <td>0.0</td>\n",
       "      <td>0.0</td>\n",
       "      <td>...</td>\n",
       "      <td>6.312890</td>\n",
       "      <td>4.633819</td>\n",
       "      <td>3.274488</td>\n",
       "      <td>1.75987</td>\n",
       "      <td>1.894498</td>\n",
       "      <td>0.414264</td>\n",
       "      <td>0.0</td>\n",
       "      <td>0.0</td>\n",
       "      <td>0.0</td>\n",
       "      <td>0.0</td>\n",
       "    </tr>\n",
       "    <tr>\n",
       "      <th>min</th>\n",
       "      <td>0.000000</td>\n",
       "      <td>0.0</td>\n",
       "      <td>0.0</td>\n",
       "      <td>0.0</td>\n",
       "      <td>0.0</td>\n",
       "      <td>0.0</td>\n",
       "      <td>0.0</td>\n",
       "      <td>0.0</td>\n",
       "      <td>0.0</td>\n",
       "      <td>0.0</td>\n",
       "      <td>...</td>\n",
       "      <td>0.000000</td>\n",
       "      <td>0.000000</td>\n",
       "      <td>0.000000</td>\n",
       "      <td>0.00000</td>\n",
       "      <td>0.000000</td>\n",
       "      <td>0.000000</td>\n",
       "      <td>0.0</td>\n",
       "      <td>0.0</td>\n",
       "      <td>0.0</td>\n",
       "      <td>0.0</td>\n",
       "    </tr>\n",
       "    <tr>\n",
       "      <th>25%</th>\n",
       "      <td>2.000000</td>\n",
       "      <td>0.0</td>\n",
       "      <td>0.0</td>\n",
       "      <td>0.0</td>\n",
       "      <td>0.0</td>\n",
       "      <td>0.0</td>\n",
       "      <td>0.0</td>\n",
       "      <td>0.0</td>\n",
       "      <td>0.0</td>\n",
       "      <td>0.0</td>\n",
       "      <td>...</td>\n",
       "      <td>0.000000</td>\n",
       "      <td>0.000000</td>\n",
       "      <td>0.000000</td>\n",
       "      <td>0.00000</td>\n",
       "      <td>0.000000</td>\n",
       "      <td>0.000000</td>\n",
       "      <td>0.0</td>\n",
       "      <td>0.0</td>\n",
       "      <td>0.0</td>\n",
       "      <td>0.0</td>\n",
       "    </tr>\n",
       "    <tr>\n",
       "      <th>50%</th>\n",
       "      <td>4.000000</td>\n",
       "      <td>0.0</td>\n",
       "      <td>0.0</td>\n",
       "      <td>0.0</td>\n",
       "      <td>0.0</td>\n",
       "      <td>0.0</td>\n",
       "      <td>0.0</td>\n",
       "      <td>0.0</td>\n",
       "      <td>0.0</td>\n",
       "      <td>0.0</td>\n",
       "      <td>...</td>\n",
       "      <td>0.000000</td>\n",
       "      <td>0.000000</td>\n",
       "      <td>0.000000</td>\n",
       "      <td>0.00000</td>\n",
       "      <td>0.000000</td>\n",
       "      <td>0.000000</td>\n",
       "      <td>0.0</td>\n",
       "      <td>0.0</td>\n",
       "      <td>0.0</td>\n",
       "      <td>0.0</td>\n",
       "    </tr>\n",
       "    <tr>\n",
       "      <th>75%</th>\n",
       "      <td>7.000000</td>\n",
       "      <td>0.0</td>\n",
       "      <td>0.0</td>\n",
       "      <td>0.0</td>\n",
       "      <td>0.0</td>\n",
       "      <td>0.0</td>\n",
       "      <td>0.0</td>\n",
       "      <td>0.0</td>\n",
       "      <td>0.0</td>\n",
       "      <td>0.0</td>\n",
       "      <td>...</td>\n",
       "      <td>0.000000</td>\n",
       "      <td>0.000000</td>\n",
       "      <td>0.000000</td>\n",
       "      <td>0.00000</td>\n",
       "      <td>0.000000</td>\n",
       "      <td>0.000000</td>\n",
       "      <td>0.0</td>\n",
       "      <td>0.0</td>\n",
       "      <td>0.0</td>\n",
       "      <td>0.0</td>\n",
       "    </tr>\n",
       "    <tr>\n",
       "      <th>max</th>\n",
       "      <td>9.000000</td>\n",
       "      <td>0.0</td>\n",
       "      <td>0.0</td>\n",
       "      <td>0.0</td>\n",
       "      <td>0.0</td>\n",
       "      <td>0.0</td>\n",
       "      <td>0.0</td>\n",
       "      <td>0.0</td>\n",
       "      <td>0.0</td>\n",
       "      <td>0.0</td>\n",
       "      <td>...</td>\n",
       "      <td>254.000000</td>\n",
       "      <td>254.000000</td>\n",
       "      <td>253.000000</td>\n",
       "      <td>253.00000</td>\n",
       "      <td>254.000000</td>\n",
       "      <td>62.000000</td>\n",
       "      <td>0.0</td>\n",
       "      <td>0.0</td>\n",
       "      <td>0.0</td>\n",
       "      <td>0.0</td>\n",
       "    </tr>\n",
       "  </tbody>\n",
       "</table>\n",
       "<p>8 rows × 785 columns</p>\n",
       "</div>"
      ],
      "text/plain": [
       "                0        1        2        3        4        5        6    \\\n",
       "count  42000.000000  42000.0  42000.0  42000.0  42000.0  42000.0  42000.0   \n",
       "mean       4.456643      0.0      0.0      0.0      0.0      0.0      0.0   \n",
       "std        2.887730      0.0      0.0      0.0      0.0      0.0      0.0   \n",
       "min        0.000000      0.0      0.0      0.0      0.0      0.0      0.0   \n",
       "25%        2.000000      0.0      0.0      0.0      0.0      0.0      0.0   \n",
       "50%        4.000000      0.0      0.0      0.0      0.0      0.0      0.0   \n",
       "75%        7.000000      0.0      0.0      0.0      0.0      0.0      0.0   \n",
       "max        9.000000      0.0      0.0      0.0      0.0      0.0      0.0   \n",
       "\n",
       "           7        8        9    ...           775           776  \\\n",
       "count  42000.0  42000.0  42000.0  ...  42000.000000  42000.000000   \n",
       "mean       0.0      0.0      0.0  ...      0.219286      0.117095   \n",
       "std        0.0      0.0      0.0  ...      6.312890      4.633819   \n",
       "min        0.0      0.0      0.0  ...      0.000000      0.000000   \n",
       "25%        0.0      0.0      0.0  ...      0.000000      0.000000   \n",
       "50%        0.0      0.0      0.0  ...      0.000000      0.000000   \n",
       "75%        0.0      0.0      0.0  ...      0.000000      0.000000   \n",
       "max        0.0      0.0      0.0  ...    254.000000    254.000000   \n",
       "\n",
       "                777          778           779           780      781  \\\n",
       "count  42000.000000  42000.00000  42000.000000  42000.000000  42000.0   \n",
       "mean       0.059024      0.02019      0.017238      0.002857      0.0   \n",
       "std        3.274488      1.75987      1.894498      0.414264      0.0   \n",
       "min        0.000000      0.00000      0.000000      0.000000      0.0   \n",
       "25%        0.000000      0.00000      0.000000      0.000000      0.0   \n",
       "50%        0.000000      0.00000      0.000000      0.000000      0.0   \n",
       "75%        0.000000      0.00000      0.000000      0.000000      0.0   \n",
       "max      253.000000    253.00000    254.000000     62.000000      0.0   \n",
       "\n",
       "           782      783      784  \n",
       "count  42000.0  42000.0  42000.0  \n",
       "mean       0.0      0.0      0.0  \n",
       "std        0.0      0.0      0.0  \n",
       "min        0.0      0.0      0.0  \n",
       "25%        0.0      0.0      0.0  \n",
       "50%        0.0      0.0      0.0  \n",
       "75%        0.0      0.0      0.0  \n",
       "max        0.0      0.0      0.0  \n",
       "\n",
       "[8 rows x 785 columns]"
      ]
     },
     "execution_count": 3,
     "metadata": {},
     "output_type": "execute_result"
    }
   ],
   "source": [
    "mnist_data = pd.read_csv('mnist.csv').values\n",
    "df_describe = pd.DataFrame(mnist_data)\n",
    "df_describe.describe()"
   ]
  },
  {
   "cell_type": "markdown",
   "id": "361f6338",
   "metadata": {},
   "source": [
    "# Data Exploration\n",
    "Exploring data and plotting cool stuff"
   ]
  },
  {
   "cell_type": "code",
   "execution_count": 4,
   "id": "6aa02fee",
   "metadata": {
    "scrolled": false
   },
   "outputs": [
    {
     "data": {
      "image/png": "[encoded data removed]",
      "text/plain": [
       "<Figure size 1872x936 with 10 Axes>"
      ]
     },
     "metadata": {
      "needs_background": "light"
     },
     "output_type": "display_data"
    }
   ],
   "source": [
    "labels = mnist_data[:,0] # 0 to 9\n",
    "digits = mnist_data[:, 1:] # 42000 digits\n",
    "img_size = 28\n",
    "\n",
    "fig = plt.figure(figsize=(26,13))\n",
    "columns = 5\n",
    "rows = 2\n",
    "for i in range(1, columns*rows +1):\n",
    "    fig.add_subplot(rows, columns, i)\n",
    "    random_index = random.randrange(0, len(digits))\n",
    "    plt.imshow(digits[random_index].reshape(img_size, img_size))\n",
    "    plt.xlabel(str(labels[random_index]))\n",
    "plt.show()"
   ]
  },
  {
   "cell_type": "code",
   "execution_count": 5,
   "id": "ce092cbd",
   "metadata": {
    "scrolled": false
   },
   "outputs": [
    {
     "data": {
      "image/png": "[encoded data removed]",
      "text/plain": [
       "<Figure size 432x288 with 1 Axes>"
      ]
     },
     "metadata": {
      "needs_background": "light"
     },
     "output_type": "display_data"
    }
   ],
   "source": [
    "unique, counts = np.unique(labels, return_counts=True)\n",
    "ax = sns.barplot(x=unique,y=counts)\n",
    "ax.bar_label(ax.containers[0])\n",
    "plt.title(\"Class distribution for edited MNIST dataset\")\n",
    "plt.ylabel(\"Counts\")\n",
    "plt.xlabel(\"Numbers\")\n",
    "plt.show()"
   ]
  },
  {
   "cell_type": "code",
   "execution_count": 6,
   "id": "3d86a6a0",
   "metadata": {},
   "outputs": [
    {
     "ename": "ModuleNotFoundError",
     "evalue": "No module named 'cv2'",
     "output_type": "error",
     "traceback": [
      "\u001b[0;31m---------------------------------------------------------------------------\u001b[0m",
      "\u001b[0;31mModuleNotFoundError\u001b[0m                       Traceback (most recent call last)",
      "Cell \u001b[0;32mIn [6], line 1\u001b[0m\n\u001b[0;32m----> 1\u001b[0m \u001b[38;5;28;01mimport\u001b[39;00m \u001b[38;5;21;01mcv2\u001b[39;00m\n\u001b[1;32m      3\u001b[0m digitsResized \u001b[38;5;241m=\u001b[39m np\u001b[38;5;241m.\u001b[39mzeros((\u001b[38;5;28mlen\u001b[39m(digits), \u001b[38;5;241m14\u001b[39m\u001b[38;5;241m*\u001b[39m\u001b[38;5;241m14\u001b[39m))\n\u001b[1;32m      5\u001b[0m \u001b[38;5;28;01mfor\u001b[39;00m i, d \u001b[38;5;129;01min\u001b[39;00m \u001b[38;5;28menumerate\u001b[39m(digits):\n",
      "\u001b[0;31mModuleNotFoundError\u001b[0m: No module named 'cv2'"
     ]
    }
   ],
   "source": [
    "import cv2\n",
    "\n",
    "digitsResized = np.zeros((len(digits), 14*14))\n",
    "\n",
    "for i, d in enumerate(digits):\n",
    "    _d = np.reshape(d, (28, 28)).astype('float32')\n",
    "    resized_d = cv2.resize(_d, (14, 14))\n",
    "    d_ = np.reshape(resized_d, (1, 14*14))\n",
    "    digitsResized[i] = d_\n",
    "\n",
    "# print('Digits resized', np.shape(digitsResized))"
   ]
  },
  {
   "cell_type": "code",
   "execution_count": null,
   "id": "3dc246ff",
   "metadata": {},
   "outputs": [],
   "source": [
    "# Visually sampling the data\n",
    "\n",
    "img_size = 14\n",
    "columns = 5\n",
    "rows = 2\n",
    "fig = plt.figure(figsize=(26,13))\n",
    "\n",
    "for i in range(1, columns*rows +1):\n",
    "    fig.add_subplot(rows, columns, i)\n",
    "    random_index = random.randrange(0, len(digitsResized))\n",
    "    plt.imshow(digitsResized[random_index].reshape(img_size, img_size))\n",
    "    plt.xlabel(str(labels[random_index]))\n",
    "\n",
    "plt.show()"
   ]
  },
  {
   "cell_type": "markdown",
   "id": "438a0889",
   "metadata": {},
   "source": [
    "#### Drop useless features\n",
    "\n",
    "Useless features are those with constant values across all data points, hence cannot be used to distinguish between data."
   ]
  },
  {
   "cell_type": "code",
   "execution_count": null,
   "id": "9188a81e",
   "metadata": {},
   "outputs": [],
   "source": [
    "def filterConstantFeature(matrix, idx):\n",
    "    return False if np.var(matrix[:, idx]) == 0.0 else True\n",
    "\n",
    "\n",
    "cols_digits = list(range(0, len(digits[0])))\n",
    "usefulCols_digits = [filterConstantFeature(digits, i) for i in cols_digits]\n",
    "digitsFiltered = digits[:, usefulCols_digits]\n",
    "\n",
    "cols_digitsResized = list(range(0, len(digitsResized[0])))\n",
    "usefulCols_digitsResized = [filterConstantFeature(digitsResized, i) for i in cols_digitsResized]\n",
    "digitsResizedFiltered = digitsResized[:, usefulCols_digitsResized]     # DATA: digits -> resized to 14x14 -> dropped constant features.\n",
    "\n",
    "# print(np.shape(digitsResized))\n",
    "# print(np.shape(digitsResizedFiltered))"
   ]
  },
  {
   "cell_type": "code",
   "execution_count": null,
   "id": "cbf76edb",
   "metadata": {},
   "outputs": [],
   "source": [
    "# given some restriction on later parts of the assignment, I've opted to train ALL\n",
    "# models with said restrictions; that being training on 5000 samples, and testing on\n",
    "# 37000 samples. let's see how that goes"
   ]
  },
  {
   "cell_type": "markdown",
   "id": "f755344f",
   "metadata": {},
   "source": [
    "# Part 1. INK Feature Models\n",
    "- Model 1. (Zero mean and SD=1) Multinomial Logit -> Ink Feature\n",
    "- Model 2. (Zero mean and SD=1) MN Logit -> Ink Feature + Our own special feature"
   ]
  },
  {
   "cell_type": "code",
   "execution_count": null,
   "id": "cf8ba256",
   "metadata": {
    "scrolled": false
   },
   "outputs": [],
   "source": [
    "# creating ink feature\n",
    "ink = np.array([sum(row) for row in digits])\n",
    "ink_mean = [np.mean(ink[labels == i]) for i in range(10)] # mean for each digit\n",
    "ink_std = [np.std(ink[labels == i]) for i in range(10)] # std for each digit\n",
    "print(f\"{ink}\\n{ink_mean}\\n{ink_std}\\n\")\n",
    "print(f\"{np.size(ink)}, {np.size(ink_mean)}, {np.size(ink_std)}\")"
   ]
  },
  {
   "cell_type": "code",
   "execution_count": null,
   "id": "66324757",
   "metadata": {
    "scrolled": false
   },
   "outputs": [],
   "source": [
    "# i didn't see much difference between scaled and non-scaled ink\n",
    "scaled_ink = (ink - np.mean(ink)) / np.std(ink)\n",
    "print(scaled_ink)"
   ]
  },
  {
   "cell_type": "code",
   "execution_count": null,
   "id": "83606214",
   "metadata": {},
   "outputs": [],
   "source": [
    "# our new feature - whitespace between numbers\n",
    "# not just the opposite of ink, but the whitespace between a digit's\n",
    "# rows and columns; 0 has a LOT of whitespace, 1 doesn´t have that much\n",
    "def get_whitespace_feature(digits):\n",
    "    ws = np.zeros(len(digits))\n",
    "    \n",
    "    print(ws)\n",
    "    return ws"
   ]
  },
  {
   "cell_type": "code",
   "execution_count": null,
   "id": "fcacd060",
   "metadata": {
    "scrolled": false
   },
   "outputs": [],
   "source": [
    "ws = get_whitespace_feature(digits)\n",
    "ws_mean = [np.mean(ink[labels == i]) for i in range(10)] # mean for each digit\n",
    "ws_std = [np.std(ink[labels == i]) for i in range(10)] # sd for each digit\n",
    "print(f\"{ws}\\n{ws_mean}\\n{ws_std}\\n\")\n",
    "print(f\"{np.size(ws)}, {np.size(ws_mean)}, {np.size(ws_std)}\")"
   ]
  },
  {
   "cell_type": "code",
   "execution_count": null,
   "id": "32a5dcdc",
   "metadata": {
    "scrolled": false
   },
   "outputs": [],
   "source": [
    "# setting up pipeline to facilitate modelling\n",
    "# and consolidate training and testing datasets\n",
    "# https://scikit-learn.org/stable/modules/preprocessing.html#preprocessing-scaler\n",
    "\n",
    "from sklearn.datasets import make_classification\n",
    "from sklearn.linear_model import LogisticRegression\n",
    "from sklearn.model_selection import train_test_split\n",
    "from sklearn.pipeline import make_pipeline\n",
    "from sklearn.preprocessing import StandardScaler\n",
    "\n",
    "X = ink.reshape(-1, 1) # reshaping since it's a single feature\n",
    "y = labels\n",
    "# I know the instructions mention we don´t need to do this now,\n",
    "# but I´d rather keep all models (reasonably) consistent\n",
    "X_train, X_test, y_train, y_test = train_test_split(X, y, \n",
    "                                                    random_state=42, \n",
    "                                                    test_size=0.30)\n",
    "\n",
    "# this pipeline logic is so we don´t leak data from the test set into the training set\n",
    "scaled_logit = make_pipeline(StandardScaler(), LogisticRegression())\n",
    "scaled_logit.fit(X_train, y_train)  # apply scaling on training data\n",
    "scaled_logit.score(X_test, y_test)\n",
    "y_pred = scaled_logit.predict(X_test)"
   ]
  },
  {
   "cell_type": "code",
   "execution_count": null,
   "id": "bcc40798",
   "metadata": {},
   "outputs": [],
   "source": [
    "from sklearn.metrics import classification_report\n",
    "from sklearn.datasets import make_classification\n",
    "from sklearn.metrics import confusion_matrix, ConfusionMatrixDisplay\n",
    "\n",
    "def show_results(model_desc, y_test, y_pred):\n",
    "    print(f\"\\nResults for {model_desc}\\n\")\n",
    "    print(classification_report(y_test, y_pred, zero_division=0)) # hiding zero division warn\n",
    "    cm = confusion_matrix(y_test, y_pred, labels=scaled_logit.classes_)\n",
    "    disp = ConfusionMatrixDisplay(confusion_matrix=cm, display_labels=scaled_logit.classes_)\n",
    "    disp.plot()\n",
    "    plt.show()"
   ]
  },
  {
   "cell_type": "code",
   "execution_count": null,
   "id": "c8d7a40b",
   "metadata": {},
   "outputs": [],
   "source": [
    "show_results(\"MN LOGIT - INK FEATURE\", y_test, y_pred)"
   ]
  },
  {
   "cell_type": "markdown",
   "id": "fb947b1b",
   "metadata": {},
   "source": [
    "# Part 2. All Pixel Values Models\n",
    "_**NOTE: Both with 784(14*14 pixels) features (all pixel values)**_\n",
    "\n",
    "- Model 3. (Regularized?) MN Logit (w/ LASSO penalty) \n",
    "- Model 4. Support Vector Machines (SVM)"
   ]
  },
  {
   "cell_type": "markdown",
   "id": "9bc74892",
   "metadata": {},
   "source": [
    "### MN Logit (w/ LASSO penalty)"
   ]
  },
  {
   "cell_type": "code",
   "execution_count": null,
   "id": "f5300729",
   "metadata": {
    "scrolled": true
   },
   "outputs": [],
   "source": [
    "# find a way to remove all pixels that always have constant value\n",
    "\n",
    "logreg = sklearn.linear_model.LogisticRegression(penalty='l1', c=1,solver='saga')\n",
    "# saga is the only solver that supports l1 penalty and multi-class problems\n",
    "#arr = np.array([ink_mean, ink_std])\n",
    "#print(pd.DataFrame(arr))\n",
    "#print(df.loc[:, (df.sum() > 0).all()])"
   ]
  },
  {
   "cell_type": "markdown",
   "id": "e8176644",
   "metadata": {},
   "source": [
    "### SVM + Grid Search -> All Pixel Values"
   ]
  },
  {
   "cell_type": "code",
   "execution_count": null,
   "id": "bec9c870",
   "metadata": {},
   "outputs": [],
   "source": [
    "from sklearn.model_selection import GridSearchCV\n",
    "from sklearn.svm import SVC\n",
    "from tqdm import tqdm\n",
    "\n",
    "\n",
    "# === Note on kernels and params ===\n",
    "\n",
    "# rbf: gamma\n",
    "# linear: x, x'\n",
    "# sigmoid: coef0\n",
    "# poly: degree, coef0\n",
    "#   but coef0 can be safely left unchanged \"in most cases\" according to \n",
    "# https://stackoverflow.com/questions/21390570/scikit-learn-svc-coef0-parameter-range\n",
    "\n",
    "paramGrid = {\n",
    "    'kernel': ['rbf', 'poly', 'linear', 'sigmoid'],\n",
    "    'C': [0.1, 0.5, 0.9, 1.5, 2, 2.5],\n",
    "    'degree': [0.5, 1, 2, 5],\n",
    "    'gamma': ['auto', 'scale'],\n",
    "}\n",
    "\n",
    "grid = GridSearchCV(SVC(), paramGrid, refit=True, verbose=3)\n",
    "grid.fit(X_train2_std, y_train2)"
   ]
  }
 ],
 "metadata": {
  "kernelspec": {
   "display_name": "Python 3 (ipykernel)",
   "language": "python",
   "name": "python3"
  },
  "language_info": {
   "codemirror_mode": {
    "name": "ipython",
    "version": 3
   },
   "file_extension": ".py",
   "mimetype": "text/x-python",
   "name": "python",
   "nbconvert_exporter": "python",
   "pygments_lexer": "ipython3",
   "version": "3.11.0"
  }
 },
 "nbformat": 4,
 "nbformat_minor": 5
}

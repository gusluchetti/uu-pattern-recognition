{
 "cells": [
  {
   "cell_type": "code",
   "execution_count": null,
   "id": "ecf506f3",
   "metadata": {
    "scrolled": false
   },
   "outputs": [],
   "source": [
    "import random\n",
    "import numpy as np\n",
    "import pandas as pd\n",
    "import matplotlib.pyplot as plt\n",
    "import seaborn as sns"
   ]
  },
  {
   "cell_type": "code",
   "execution_count": null,
   "id": "af6112b5",
   "metadata": {
    "scrolled": true
   },
   "outputs": [],
   "source": [
    "# configuring figure/plot params\n",
    "custom_params = {'figure.figsize':(16,9)} \n",
    "sns.set_theme(style=\"whitegrid\", rc=custom_params)"
   ]
  },
  {
   "cell_type": "code",
   "execution_count": null,
   "id": "f9814b21",
   "metadata": {
    "scrolled": true
   },
   "outputs": [],
   "source": [
    "mnist_data = pd.read_csv('mnist.csv').values\n",
    "df_describe = pd.DataFrame(mnist_data)\n",
    "df_describe.describe()"
   ]
  },
  {
   "cell_type": "markdown",
   "id": "361f6338",
   "metadata": {},
   "source": [
    "# Data Exploration"
   ]
  },
  {
   "cell_type": "code",
   "execution_count": null,
   "id": "6aa02fee",
   "metadata": {
    "scrolled": false
   },
   "outputs": [],
   "source": [
    "labels = mnist_data[:,0] # 0 to 9\n",
    "digits = mnist_data[:, 1:] # 42000 digits\n",
    "img_size = 28\n",
    "\n",
    "fig = plt.figure(figsize=(26,13))\n",
    "columns = 5\n",
    "rows = 2\n",
    "for i in range(1, columns*rows +1):\n",
    "    fig.add_subplot(rows, columns, i)\n",
    "    random_index = random.randrange(0, len(digits))\n",
    "    plt.imshow(digits[random_index].reshape(img_size, img_size))\n",
    "    plt.xlabel(str(labels[random_index]))\n",
    "plt.show()"
   ]
  },
  {
   "cell_type": "code",
   "execution_count": null,
   "id": "ce092cbd",
   "metadata": {
    "scrolled": false
   },
   "outputs": [],
   "source": [
    "unique, counts = np.unique(labels, return_counts=True)\n",
    "ax = sns.barplot(x=unique,y=counts)\n",
    "ax.bar_label(ax.containers[0])\n",
    "plt.title(\"Class distribution for edited MNIST dataset\")\n",
    "plt.ylabel(\"Counts\")\n",
    "plt.xlabel(\"Numbers\")\n",
    "plt.show()"
   ]
  },
  {
   "cell_type": "markdown",
   "id": "f755344f",
   "metadata": {},
   "source": [
    "# Part 1. INK Feature Models\n",
    "- (Zero mean and SD=1) Multinomial Logit -> Ink Feature\n",
    "- (Zero mean and SD=1) MN Logit -> Ink Feature + Our own special feature"
   ]
  },
  {
   "cell_type": "code",
   "execution_count": null,
   "id": "cf8ba256",
   "metadata": {
    "scrolled": false
   },
   "outputs": [],
   "source": [
    "# creating ink feature\n",
    "ink = np.array([sum(row) for row in digits])\n",
    "ink_mean = [np.mean(ink[labels == i]) for i in range(10)] # mean for each digit\n",
    "ink_std = [np.std(ink[labels == i]) for i in range(10)] # std for each digit\n",
    "print(ink, ink_mean, ink_std)\n",
    "print(np.size(ink), np.size(ink_mean), np.size(ink_std))"
   ]
  },
  {
   "cell_type": "code",
   "execution_count": null,
   "id": "66324757",
   "metadata": {
    "scrolled": false
   },
   "outputs": [],
   "source": [
    "scaled_ink = (ink - np.mean(ink)) / np.std(ink)\n",
    "print(scaled_ink)\n",
    "# i didn't see much difference between scaled and non-scaled ink"
   ]
  },
  {
   "cell_type": "code",
   "execution_count": null,
   "id": "d7127b72",
   "metadata": {},
   "outputs": [],
   "source": [
    "# our new feature - whitespace between numbers\n",
    "# (vertical and horizontal passes)\n",
    "def get_whitespace_feature(digits):\n",
    "    ws = np.zeros(len(digits))\n",
    "    \n",
    "    print(ws)\n",
    "    return ws"
   ]
  },
  {
   "cell_type": "code",
   "execution_count": null,
   "id": "fcacd060",
   "metadata": {
    "scrolled": false
   },
   "outputs": [],
   "source": [
    "ws = get_whitespace_feature(digits)\n",
    "ws_mean = [np.mean(ink[labels == i]) for i in range(10)] # mean for each digit\n",
    "ws_std = [np.std(ink[labels == i]) for i in range(10)] # sd for each digit\n",
    "print(ws, ws_mean, ws_std)\n",
    "print(np.size(ws), np.size(ws_mean), np.size(ws_std))"
   ]
  },
  {
   "cell_type": "code",
   "execution_count": null,
   "id": "32a5dcdc",
   "metadata": {
    "scrolled": false
   },
   "outputs": [],
   "source": [
    "# setting up pipeline to facilitate modelling\n",
    "# and consolidate training and testing datasets\n",
    "# https://scikit-learn.org/stable/modules/preprocessing.html#preprocessing-scaler\n",
    "\n",
    "from sklearn.datasets import make_classification\n",
    "from sklearn.linear_model import LogisticRegression\n",
    "from sklearn.model_selection import train_test_split\n",
    "from sklearn.pipeline import make_pipeline\n",
    "from sklearn.preprocessing import StandardScaler\n",
    "\n",
    "X = ink.reshape(-1, 1) # reshaping since it's a single feature\n",
    "y = labels\n",
    "# I know the instructions mention we don´t need to do this now,\n",
    "# but I´d rather keep all models (reasonably) consistent\n",
    "X_train, X_test, y_train, y_test = train_test_split(X, y, \n",
    "                                                    random_state=42, \n",
    "                                                    test_size=0.30)\n",
    "\n",
    "# this pipeline logic is so we don´t leak data from the test set into the training set\n",
    "scaled_logit = make_pipeline(StandardScaler(), LogisticRegression())\n",
    "scaled_logit.fit(X_train, y_train)  # apply scaling on training data\n",
    "scaled_logit.score(X_test, y_test)\n",
    "y_pred = scaled_logit.predict(X_test)"
   ]
  },
  {
   "cell_type": "code",
   "execution_count": null,
   "id": "bcc40798",
   "metadata": {},
   "outputs": [],
   "source": [
    "from sklearn.metrics import classification_report\n",
    "from sklearn.datasets import make_classification\n",
    "from sklearn.metrics import confusion_matrix, ConfusionMatrixDisplay\n",
    "\n",
    "def show_results(y_test, y_pred):\n",
    "    print(classification_report(y_test, y_pred, zero_division=0)) # hiding zero division warn\n",
    "    cm = confusion_matrix(y_test, y_pred, labels=scaled_logit.classes_)\n",
    "    disp = ConfusionMatrixDisplay(confusion_matrix=cm, display_labels=scaled_logit.classes_)\n",
    "    disp.plot()\n",
    "    plt.show()"
   ]
  },
  {
   "cell_type": "code",
   "execution_count": null,
   "id": "c8d7a40b",
   "metadata": {},
   "outputs": [],
   "source": [
    "show_results(y_test, y_pred) # mn logit -> ink feature"
   ]
  },
  {
   "cell_type": "markdown",
   "id": "fb947b1b",
   "metadata": {},
   "source": [
    "# Part 2. All Pixel Value Models\n",
    "- (Regularized?) MN Logit (w/ LASSO penalty) -> 784(28*28 pixels) features (all pixel values)\n",
    "- Support Vector Machines (SVM)"
   ]
  },
  {
   "cell_type": "code",
   "execution_count": null,
   "id": "f5300729",
   "metadata": {
    "scrolled": false
   },
   "outputs": [],
   "source": [
    "# find a way to remove all pixels that always have constant value\n",
    "\n",
    "logreg = sklearn.linear_model.LogisticRegression(penalty='l1', c=1,solver='saga')\n",
    "# saga is the only solver that supports l1 penalty and multi-class problems\n",
    "#arr = np.array([ink_mean, ink_std])\n",
    "#print(pd.DataFrame(arr))\n",
    "#print(df.loc[:, (df.sum() > 0).all()])"
   ]
  }
 ],
 "metadata": {
  "kernelspec": {
   "display_name": "Python 3 (ipykernel)",
   "language": "python",
   "name": "python3"
  },
  "language_info": {
   "codemirror_mode": {
    "name": "ipython",
    "version": 3
   },
   "file_extension": ".py",
   "mimetype": "text/x-python",
   "name": "python",
   "nbconvert_exporter": "python",
   "pygments_lexer": "ipython3",
   "version": "3.11.0"
  }
 },
 "nbformat": 4,
 "nbformat_minor": 5
}

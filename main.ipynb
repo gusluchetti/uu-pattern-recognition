{
 "cells": [
  {
   "cell_type": "code",
   "execution_count": 3,
   "id": "15110e7f",
   "metadata": {
    "scrolled": true
   },
   "outputs": [
    {
     "name": "stdout",
     "output_type": "stream",
     "text": [
      "Defaulting to user installation because normal site-packages is not writeable\n",
      "Requirement already satisfied: opencv-python in /home/sushii/.local/lib/python3.11/site-packages (4.6.0.66)\n",
      "Requirement already satisfied: numpy>=1.21.2 in /usr/lib64/python3.11/site-packages (from opencv-python) (1.22.0)\n"
     ]
    }
   ],
   "source": [
    "import sys\n",
    "!{sys.executable} -m pip install opencv-python"
   ]
  },
  {
   "cell_type": "code",
   "execution_count": 105,
   "id": "ecf506f3",
   "metadata": {
    "scrolled": false
   },
   "outputs": [],
   "source": [
    "import random\n",
    "import numpy as np\n",
    "import pandas as pd\n",
    "import matplotlib.pyplot as plt\n",
    "import seaborn as sns\n",
    "import cv2\n",
    "from time import perf_counter"
   ]
  },
  {
   "cell_type": "code",
   "execution_count": 5,
   "id": "af6112b5",
   "metadata": {
    "scrolled": true
   },
   "outputs": [],
   "source": [
    "# configuring figure/plot params\n",
    "custom_params = {'figure.figsize':(16, 9)} \n",
    "sns.set_theme(style=\"whitegrid\", font_scale=1.3, rc=custom_params)"
   ]
  },
  {
   "cell_type": "code",
   "execution_count": 6,
   "id": "5e89074a",
   "metadata": {},
   "outputs": [],
   "source": [
    "# loading dataset (it's a bit slow)\n",
    "mnist_data = pd.read_csv('mnist.csv').values"
   ]
  },
  {
   "cell_type": "code",
   "execution_count": 7,
   "id": "f9814b21",
   "metadata": {
    "scrolled": false
   },
   "outputs": [
    {
     "name": "stdout",
     "output_type": "stream",
     "text": [
      "[1 0 1 ... 7 6 9] 42000\n",
      "[[0 0 0 ... 0 0 0]\n",
      " [0 0 0 ... 0 0 0]\n",
      " [0 0 0 ... 0 0 0]\n",
      " ...\n",
      " [0 0 0 ... 0 0 0]\n",
      " [0 0 0 ... 0 0 0]\n",
      " [0 0 0 ... 0 0 0]] 784\n"
     ]
    },
    {
     "data": {
      "text/html": [
       "<div>\n",
       "<style scoped>\n",
       "    .dataframe tbody tr th:only-of-type {\n",
       "        vertical-align: middle;\n",
       "    }\n",
       "\n",
       "    .dataframe tbody tr th {\n",
       "        vertical-align: top;\n",
       "    }\n",
       "\n",
       "    .dataframe thead th {\n",
       "        text-align: right;\n",
       "    }\n",
       "</style>\n",
       "<table border=\"1\" class=\"dataframe\">\n",
       "  <thead>\n",
       "    <tr style=\"text-align: right;\">\n",
       "      <th></th>\n",
       "      <th>0</th>\n",
       "      <th>1</th>\n",
       "      <th>2</th>\n",
       "      <th>3</th>\n",
       "      <th>4</th>\n",
       "      <th>5</th>\n",
       "      <th>6</th>\n",
       "      <th>7</th>\n",
       "      <th>8</th>\n",
       "      <th>9</th>\n",
       "      <th>...</th>\n",
       "      <th>775</th>\n",
       "      <th>776</th>\n",
       "      <th>777</th>\n",
       "      <th>778</th>\n",
       "      <th>779</th>\n",
       "      <th>780</th>\n",
       "      <th>781</th>\n",
       "      <th>782</th>\n",
       "      <th>783</th>\n",
       "      <th>784</th>\n",
       "    </tr>\n",
       "  </thead>\n",
       "  <tbody>\n",
       "    <tr>\n",
       "      <th>0</th>\n",
       "      <td>1</td>\n",
       "      <td>0</td>\n",
       "      <td>0</td>\n",
       "      <td>0</td>\n",
       "      <td>0</td>\n",
       "      <td>0</td>\n",
       "      <td>0</td>\n",
       "      <td>0</td>\n",
       "      <td>0</td>\n",
       "      <td>0</td>\n",
       "      <td>...</td>\n",
       "      <td>0</td>\n",
       "      <td>0</td>\n",
       "      <td>0</td>\n",
       "      <td>0</td>\n",
       "      <td>0</td>\n",
       "      <td>0</td>\n",
       "      <td>0</td>\n",
       "      <td>0</td>\n",
       "      <td>0</td>\n",
       "      <td>0</td>\n",
       "    </tr>\n",
       "    <tr>\n",
       "      <th>1</th>\n",
       "      <td>0</td>\n",
       "      <td>0</td>\n",
       "      <td>0</td>\n",
       "      <td>0</td>\n",
       "      <td>0</td>\n",
       "      <td>0</td>\n",
       "      <td>0</td>\n",
       "      <td>0</td>\n",
       "      <td>0</td>\n",
       "      <td>0</td>\n",
       "      <td>...</td>\n",
       "      <td>0</td>\n",
       "      <td>0</td>\n",
       "      <td>0</td>\n",
       "      <td>0</td>\n",
       "      <td>0</td>\n",
       "      <td>0</td>\n",
       "      <td>0</td>\n",
       "      <td>0</td>\n",
       "      <td>0</td>\n",
       "      <td>0</td>\n",
       "    </tr>\n",
       "    <tr>\n",
       "      <th>2</th>\n",
       "      <td>1</td>\n",
       "      <td>0</td>\n",
       "      <td>0</td>\n",
       "      <td>0</td>\n",
       "      <td>0</td>\n",
       "      <td>0</td>\n",
       "      <td>0</td>\n",
       "      <td>0</td>\n",
       "      <td>0</td>\n",
       "      <td>0</td>\n",
       "      <td>...</td>\n",
       "      <td>0</td>\n",
       "      <td>0</td>\n",
       "      <td>0</td>\n",
       "      <td>0</td>\n",
       "      <td>0</td>\n",
       "      <td>0</td>\n",
       "      <td>0</td>\n",
       "      <td>0</td>\n",
       "      <td>0</td>\n",
       "      <td>0</td>\n",
       "    </tr>\n",
       "    <tr>\n",
       "      <th>3</th>\n",
       "      <td>4</td>\n",
       "      <td>0</td>\n",
       "      <td>0</td>\n",
       "      <td>0</td>\n",
       "      <td>0</td>\n",
       "      <td>0</td>\n",
       "      <td>0</td>\n",
       "      <td>0</td>\n",
       "      <td>0</td>\n",
       "      <td>0</td>\n",
       "      <td>...</td>\n",
       "      <td>0</td>\n",
       "      <td>0</td>\n",
       "      <td>0</td>\n",
       "      <td>0</td>\n",
       "      <td>0</td>\n",
       "      <td>0</td>\n",
       "      <td>0</td>\n",
       "      <td>0</td>\n",
       "      <td>0</td>\n",
       "      <td>0</td>\n",
       "    </tr>\n",
       "    <tr>\n",
       "      <th>4</th>\n",
       "      <td>0</td>\n",
       "      <td>0</td>\n",
       "      <td>0</td>\n",
       "      <td>0</td>\n",
       "      <td>0</td>\n",
       "      <td>0</td>\n",
       "      <td>0</td>\n",
       "      <td>0</td>\n",
       "      <td>0</td>\n",
       "      <td>0</td>\n",
       "      <td>...</td>\n",
       "      <td>0</td>\n",
       "      <td>0</td>\n",
       "      <td>0</td>\n",
       "      <td>0</td>\n",
       "      <td>0</td>\n",
       "      <td>0</td>\n",
       "      <td>0</td>\n",
       "      <td>0</td>\n",
       "      <td>0</td>\n",
       "      <td>0</td>\n",
       "    </tr>\n",
       "  </tbody>\n",
       "</table>\n",
       "<p>5 rows × 785 columns</p>\n",
       "</div>"
      ],
      "text/plain": [
       "   0    1    2    3    4    5    6    7    8    9    ...  775  776  777  778  \\\n",
       "0    1    0    0    0    0    0    0    0    0    0  ...    0    0    0    0   \n",
       "1    0    0    0    0    0    0    0    0    0    0  ...    0    0    0    0   \n",
       "2    1    0    0    0    0    0    0    0    0    0  ...    0    0    0    0   \n",
       "3    4    0    0    0    0    0    0    0    0    0  ...    0    0    0    0   \n",
       "4    0    0    0    0    0    0    0    0    0    0  ...    0    0    0    0   \n",
       "\n",
       "   779  780  781  782  783  784  \n",
       "0    0    0    0    0    0    0  \n",
       "1    0    0    0    0    0    0  \n",
       "2    0    0    0    0    0    0  \n",
       "3    0    0    0    0    0    0  \n",
       "4    0    0    0    0    0    0  \n",
       "\n",
       "[5 rows x 785 columns]"
      ]
     },
     "execution_count": 7,
     "metadata": {},
     "output_type": "execute_result"
    }
   ],
   "source": [
    "labels = mnist_data[:, 0]  # 0 to 9\n",
    "digits = mnist_data[:, 1:] # 42000 digits\n",
    "print(labels, len(labels))\n",
    "print(digits, len(digits[0]))\n",
    "mnist_df = pd.DataFrame(mnist_data)\n",
    "mnist_df.head()\n",
    "# first column is label, all (784) other columns are pixel values (0-255)"
   ]
  },
  {
   "cell_type": "markdown",
   "id": "361f6338",
   "metadata": {},
   "source": [
    "# Data Exploration / Pre-Processing\n",
    "Exploring data and plotting cool stuff"
   ]
  },
  {
   "cell_type": "code",
   "execution_count": 8,
   "id": "ce092cbd",
   "metadata": {
    "scrolled": false
   },
   "outputs": [
    {
     "data": {
      "image/png": "[encoded data removed]",
      "text/plain": [
       "<Figure size 432x288 with 1 Axes>"
      ]
     },
     "metadata": {
      "needs_background": "light"
     },
     "output_type": "display_data"
    }
   ],
   "source": [
    "unique, counts = np.unique(labels, return_counts=True)\n",
    "ax = sns.barplot(x=unique,y=counts)\n",
    "ax.bar_label(ax.containers[0])\n",
    "plt.title(\"Class distribution for edited MNIST dataset\")\n",
    "plt.ylabel(\"Counts\")\n",
    "plt.xlabel(\"Numbers\")\n",
    "plt.show()\n",
    "\n",
    "fig = ax.get_figure()\n",
    "fig.savefig(\"class_dist.png\", dpi=300) \n",
    "# TODO: maybe plot mean and std in this plot?"
   ]
  },
  {
   "cell_type": "code",
   "execution_count": 128,
   "id": "090ff8c8",
   "metadata": {},
   "outputs": [],
   "source": [
    "# resizing digits for future use on complex models\n",
    "digitsResized = np.zeros((len(digits), 14*14))\n",
    "\n",
    "for i, d in enumerate(digits):\n",
    "    _d = np.reshape(d, (28, 28)).astype('float32')\n",
    "    resized_d = cv2.resize(_d, (14, 14))\n",
    "    d_ = np.reshape(resized_d, (1, 14*14))\n",
    "    digitsResized[i] = d_"
   ]
  },
  {
   "cell_type": "code",
   "execution_count": 10,
   "id": "a763d3ac",
   "metadata": {},
   "outputs": [],
   "source": [
    "# randomly print one number from each class\n",
    "def print_one_from_each(filename, digits, img_size):\n",
    "    fig = plt.figure(figsize=(16,8))\n",
    "    cols, rows = 5, 2\n",
    "    for i in range(1, (cols*rows)+1):\n",
    "        fig.add_subplot(rows, cols, i)\n",
    "        index = np.where(labels == i-1)[0][0]\n",
    "        plt.imshow(digits[index].reshape(img_size, img_size))\n",
    "        plt.xlabel(str(labels[index]))\n",
    "    plt.show()\n",
    "    fig.savefig(f\"{filename}.png\", dpi=300)"
   ]
  },
  {
   "cell_type": "code",
   "execution_count": 11,
   "id": "e018c41e",
   "metadata": {},
   "outputs": [
    {
     "data": {
      "image/png": "[encoded data removed]",
      "text/plain": [
       "<Figure size 1152x576 with 10 Axes>"
      ]
     },
     "metadata": {
      "needs_background": "light"
     },
     "output_type": "display_data"
    }
   ],
   "source": [
    "print_one_from_each(\"28_digits\", digits, 28)"
   ]
  },
  {
   "cell_type": "code",
   "execution_count": 12,
   "id": "d7e55e12",
   "metadata": {},
   "outputs": [
    {
     "data": {
      "image/png": "[encoded data removed]",
      "text/plain": [
       "<Figure size 1152x576 with 10 Axes>"
      ]
     },
     "metadata": {
      "needs_background": "light"
     },
     "output_type": "display_data"
    }
   ],
   "source": [
    "# visually sampling the resized data\n",
    "print_one_from_each(\"14_digits\", digitsResized, 14)"
   ]
  },
  {
   "cell_type": "markdown",
   "id": "7dba43ef",
   "metadata": {},
   "source": [
    "#### Drop useless features\n",
    "\n",
    "Useless features are those with constant values across all data points, hence cannot be used to distinguish between data."
   ]
  },
  {
   "cell_type": "code",
   "execution_count": 13,
   "id": "6be865fe",
   "metadata": {},
   "outputs": [],
   "source": [
    "def filterConstantFeature(matrix, idx):\n",
    "    return False if np.var(matrix[:, idx]) == 0.0 else True\n",
    "\n",
    "cols_digits = list(range(0, len(digits[0])))\n",
    "usefulCols_digits = [filterConstantFeature(digits, i) for i in cols_digits]\n",
    "digitsFiltered = digits[:, usefulCols_digits]\n",
    "\n",
    "cols_digitsResized = list(range(0, len(digitsResized[0])))\n",
    "usefulCols_digitsResized = [filterConstantFeature(digitsResized, i) for i in cols_digitsResized]\n",
    "digitsResizedFiltered = digitsResized[:, usefulCols_digitsResized]     \n",
    "# DATA: digits -> resized to 14x14 -> dropped constant features.\n",
    "\n",
    "# print(np.shape(digitsResized))\n",
    "# print(np.shape(digitsResizedFiltered))"
   ]
  },
  {
   "cell_type": "code",
   "execution_count": 14,
   "id": "960c344b",
   "metadata": {},
   "outputs": [],
   "source": [
    "# given some restriction on later parts of the assignment,\n",
    "# should we train ALL models with said restrictions for consistency's sake?\n",
    "# those being only training on 5000 samples and testing on the remaining (37000) samples"
   ]
  },
  {
   "cell_type": "markdown",
   "id": "f755344f",
   "metadata": {},
   "source": [
    "# Part 1. INK Feature Models\n",
    "- Model 1. (Zero mean and SD=1) Multinomial Logit -> Ink Feature\n",
    "- Model 2. (Zero mean and SD=1) MN Logit -> Ink Feature + Our own special feature"
   ]
  },
  {
   "cell_type": "code",
   "execution_count": 15,
   "id": "cf481dde",
   "metadata": {},
   "outputs": [],
   "source": [
    "# preparing to build both features\n",
    "def print_feature(feat, feat_mean, feat_std):\n",
    "    print(f\"{feat}\\n{feat_mean}\\n{feat_std}\\n\")\n",
    "    print(f\"{np.size(feat)}, {np.size(feat_mean)}, {np.size(feat_std)}\")"
   ]
  },
  {
   "cell_type": "code",
   "execution_count": 16,
   "id": "cf8ba256",
   "metadata": {
    "scrolled": false
   },
   "outputs": [
    {
     "name": "stdout",
     "output_type": "stream",
     "text": [
      "Ink Feature:\n",
      " [16649 44609 13425 ... 31504 26381 18178]\n"
     ]
    }
   ],
   "source": [
    "# creating ink feature\n",
    "ink = np.array([sum(row) for row in digits])\n",
    "print(f\"Ink Feature:\\n {ink}\")"
   ]
  },
  {
   "cell_type": "code",
   "execution_count": 17,
   "id": "66324757",
   "metadata": {
    "scrolled": false
   },
   "outputs": [
    {
     "name": "stdout",
     "output_type": "stream",
     "text": [
      "[16649 44609 13425 ... 31504 26381 18178]\n",
      "[34632.40755082285, 15188.466268146884, 29871.099353603066, 28320.188002757986, 24232.72249508841, 25835.920421607378, 27734.917331399563, 22931.244262667577, 30184.148412503077, 24553.75]\n",
      "[8461.892043158483, 4409.461697281539, 7653.006198983366, 7574.104535679545, 6374.633457092554, 7526.602988920305, 7530.503187255003, 6168.3408781754315, 7777.396357381105, 6465.231330430596]\n",
      "\n",
      "42000, 10, 10\n"
     ]
    }
   ],
   "source": [
    "ink_mean = [np.mean(ink[labels == i]) for i in range(10)] # mean for each digit\n",
    "ink_std = [np.std(ink[labels == i]) for i in range(10)] # std for each digit\n",
    "print_feature(ink, ink_mean, ink_std)"
   ]
  },
  {
   "cell_type": "code",
   "execution_count": 98,
   "id": "54427917",
   "metadata": {},
   "outputs": [],
   "source": [
    "def line_counter(array):\n",
    "    counter = 0\n",
    "    line_start = False\n",
    "    for pixel in array:\n",
    "        if line_start == False and pixel > 0 :\n",
    "            line_start = True\n",
    "        if line_start == True and pixel < 1:\n",
    "            line_start = False\n",
    "            counter += 1\n",
    "    return counter"
   ]
  },
  {
   "cell_type": "code",
   "execution_count": 100,
   "id": "83606214",
   "metadata": {},
   "outputs": [],
   "source": [
    "# our new feature - number of lines (horizontal and vertically)\n",
    "# how many one-line pixels are enveloped by zero pixels\n",
    "# rows and columns; 0 has a LOT of whitespace, 1 doesn´t have that much\n",
    "def build_line_feature(digits, max_count=6, img_size=28):\n",
    "    \"\"\"\n",
    "    building line counter feature\n",
    "    digits: array for all digits and all pixel values\n",
    "    max_count: max number of lines being counted\n",
    "    img_size: size of the image (default is 28x28)\n",
    "    \"\"\" \n",
    "    num_samples = len(digits)\n",
    "    df_lines = pd.DataFrame(index=(range(len(digits))))\n",
    "    # setting up empty dataframe\n",
    "    directions = ['h', 'v']\n",
    "    for direction in directions:\n",
    "        for i in range(max_count):\n",
    "            new_col = f\"{direction}_{i}_line\"\n",
    "            df_lines[new_col] = 0\n",
    "    \n",
    "    \n",
    "    for index, digit in enumerate(digits): # each digit has img_size*img_size (784) elements\n",
    "        offset, x = 0, 0\n",
    "        for i in range(img_size): # img_size rows and columns on each digit\n",
    "            row = digit[(0+offset):(img_size+offset)]\n",
    "            col_indexes = np.arange(start=x, stop=(img_size*img_size), step=img_size)\n",
    "            col = np.array([digit[x] for x in col_indexes])\n",
    "            # print(f\"\\n{row}\\n{column}\")\n",
    "            \n",
    "            h_count, v_count = line_counter(row), line_counter(col)\n",
    "            df_lines.at[index, f\"h_{h_count}_line\"] += 1\n",
    "            df_lines.at[index, f\"v_{v_count}_line\"] += 1\n",
    "            \n",
    "            offset += img_size\n",
    "            x += 1\n",
    "        # plt.imshow(digit.reshape(img_size, img_size))\n",
    "        # plt.show()\n",
    "        # break\n",
    "        \n",
    "    return df_lines"
   ]
  },
  {
   "cell_type": "code",
   "execution_count": 106,
   "id": "fcacd060",
   "metadata": {
    "scrolled": false
   },
   "outputs": [
    {
     "name": "stdout",
     "output_type": "stream",
     "text": [
      "Took 87.71 seconds to build line counting feature.\n"
     ]
    }
   ],
   "source": [
    "# don´t run this unless stricly necessary\n",
    "start = perf_counter()\n",
    "# df_lines = build_line_feature(digits)\n",
    "end = perf_counter()\n",
    "print(f\"Took {end-start:.2f} seconds to build line counting feature.\")\n",
    "# lines_mean = [np.mean(lines[labels == i]) for i in range(10)] # mean for each digit\n",
    "# lines_std = [np.std(lines[labels == i]) for i in range(10)] # sd for each digit\n",
    "# print_feature(lines, lines_mean, lines_std)"
   ]
  },
  {
   "cell_type": "code",
   "execution_count": 107,
   "id": "d257d2ff",
   "metadata": {},
   "outputs": [
    {
     "data": {
      "text/html": [
       "<div>\n",
       "<style scoped>\n",
       "    .dataframe tbody tr th:only-of-type {\n",
       "        vertical-align: middle;\n",
       "    }\n",
       "\n",
       "    .dataframe tbody tr th {\n",
       "        vertical-align: top;\n",
       "    }\n",
       "\n",
       "    .dataframe thead th {\n",
       "        text-align: right;\n",
       "    }\n",
       "</style>\n",
       "<table border=\"1\" class=\"dataframe\">\n",
       "  <thead>\n",
       "    <tr style=\"text-align: right;\">\n",
       "      <th></th>\n",
       "      <th>h_0_line</th>\n",
       "      <th>h_1_line</th>\n",
       "      <th>h_2_line</th>\n",
       "      <th>h_3_line</th>\n",
       "      <th>h_4_line</th>\n",
       "      <th>h_5_line</th>\n",
       "      <th>v_0_line</th>\n",
       "      <th>v_1_line</th>\n",
       "      <th>v_2_line</th>\n",
       "      <th>v_3_line</th>\n",
       "      <th>v_4_line</th>\n",
       "      <th>v_5_line</th>\n",
       "    </tr>\n",
       "  </thead>\n",
       "  <tbody>\n",
       "    <tr>\n",
       "      <th>count</th>\n",
       "      <td>42000.000000</td>\n",
       "      <td>42000.000000</td>\n",
       "      <td>42000.000000</td>\n",
       "      <td>42000.000000</td>\n",
       "      <td>42000.000000</td>\n",
       "      <td>42000.000000</td>\n",
       "      <td>42000.000000</td>\n",
       "      <td>42000.000000</td>\n",
       "      <td>42000.000000</td>\n",
       "      <td>42000.000000</td>\n",
       "      <td>42000.000000</td>\n",
       "      <td>42000.000000</td>\n",
       "    </tr>\n",
       "    <tr>\n",
       "      <th>mean</th>\n",
       "      <td>8.256738</td>\n",
       "      <td>14.447048</td>\n",
       "      <td>5.090500</td>\n",
       "      <td>0.204690</td>\n",
       "      <td>0.001000</td>\n",
       "      <td>0.000024</td>\n",
       "      <td>12.365024</td>\n",
       "      <td>7.999024</td>\n",
       "      <td>5.858357</td>\n",
       "      <td>1.746357</td>\n",
       "      <td>0.031095</td>\n",
       "      <td>0.000143</td>\n",
       "    </tr>\n",
       "    <tr>\n",
       "      <th>std</th>\n",
       "      <td>0.981878</td>\n",
       "      <td>4.029458</td>\n",
       "      <td>3.813827</td>\n",
       "      <td>0.737722</td>\n",
       "      <td>0.034489</td>\n",
       "      <td>0.004880</td>\n",
       "      <td>3.854687</td>\n",
       "      <td>3.602049</td>\n",
       "      <td>3.588119</td>\n",
       "      <td>2.451583</td>\n",
       "      <td>0.239317</td>\n",
       "      <td>0.013801</td>\n",
       "    </tr>\n",
       "    <tr>\n",
       "      <th>min</th>\n",
       "      <td>8.000000</td>\n",
       "      <td>1.000000</td>\n",
       "      <td>0.000000</td>\n",
       "      <td>0.000000</td>\n",
       "      <td>0.000000</td>\n",
       "      <td>0.000000</td>\n",
       "      <td>8.000000</td>\n",
       "      <td>0.000000</td>\n",
       "      <td>0.000000</td>\n",
       "      <td>0.000000</td>\n",
       "      <td>0.000000</td>\n",
       "      <td>0.000000</td>\n",
       "    </tr>\n",
       "    <tr>\n",
       "      <th>25%</th>\n",
       "      <td>8.000000</td>\n",
       "      <td>12.000000</td>\n",
       "      <td>2.000000</td>\n",
       "      <td>0.000000</td>\n",
       "      <td>0.000000</td>\n",
       "      <td>0.000000</td>\n",
       "      <td>9.000000</td>\n",
       "      <td>5.000000</td>\n",
       "      <td>3.000000</td>\n",
       "      <td>0.000000</td>\n",
       "      <td>0.000000</td>\n",
       "      <td>0.000000</td>\n",
       "    </tr>\n",
       "    <tr>\n",
       "      <th>50%</th>\n",
       "      <td>8.000000</td>\n",
       "      <td>15.000000</td>\n",
       "      <td>5.000000</td>\n",
       "      <td>0.000000</td>\n",
       "      <td>0.000000</td>\n",
       "      <td>0.000000</td>\n",
       "      <td>12.000000</td>\n",
       "      <td>8.000000</td>\n",
       "      <td>6.000000</td>\n",
       "      <td>0.000000</td>\n",
       "      <td>0.000000</td>\n",
       "      <td>0.000000</td>\n",
       "    </tr>\n",
       "    <tr>\n",
       "      <th>75%</th>\n",
       "      <td>8.000000</td>\n",
       "      <td>18.000000</td>\n",
       "      <td>8.000000</td>\n",
       "      <td>0.000000</td>\n",
       "      <td>0.000000</td>\n",
       "      <td>0.000000</td>\n",
       "      <td>14.000000</td>\n",
       "      <td>10.000000</td>\n",
       "      <td>8.000000</td>\n",
       "      <td>3.000000</td>\n",
       "      <td>0.000000</td>\n",
       "      <td>0.000000</td>\n",
       "    </tr>\n",
       "    <tr>\n",
       "      <th>max</th>\n",
       "      <td>19.000000</td>\n",
       "      <td>20.000000</td>\n",
       "      <td>19.000000</td>\n",
       "      <td>11.000000</td>\n",
       "      <td>3.000000</td>\n",
       "      <td>1.000000</td>\n",
       "      <td>26.000000</td>\n",
       "      <td>20.000000</td>\n",
       "      <td>19.000000</td>\n",
       "      <td>15.000000</td>\n",
       "      <td>7.000000</td>\n",
       "      <td>2.000000</td>\n",
       "    </tr>\n",
       "  </tbody>\n",
       "</table>\n",
       "</div>"
      ],
      "text/plain": [
       "           h_0_line      h_1_line      h_2_line      h_3_line      h_4_line  \\\n",
       "count  42000.000000  42000.000000  42000.000000  42000.000000  42000.000000   \n",
       "mean       8.256738     14.447048      5.090500      0.204690      0.001000   \n",
       "std        0.981878      4.029458      3.813827      0.737722      0.034489   \n",
       "min        8.000000      1.000000      0.000000      0.000000      0.000000   \n",
       "25%        8.000000     12.000000      2.000000      0.000000      0.000000   \n",
       "50%        8.000000     15.000000      5.000000      0.000000      0.000000   \n",
       "75%        8.000000     18.000000      8.000000      0.000000      0.000000   \n",
       "max       19.000000     20.000000     19.000000     11.000000      3.000000   \n",
       "\n",
       "           h_5_line      v_0_line      v_1_line      v_2_line      v_3_line  \\\n",
       "count  42000.000000  42000.000000  42000.000000  42000.000000  42000.000000   \n",
       "mean       0.000024     12.365024      7.999024      5.858357      1.746357   \n",
       "std        0.004880      3.854687      3.602049      3.588119      2.451583   \n",
       "min        0.000000      8.000000      0.000000      0.000000      0.000000   \n",
       "25%        0.000000      9.000000      5.000000      3.000000      0.000000   \n",
       "50%        0.000000     12.000000      8.000000      6.000000      0.000000   \n",
       "75%        0.000000     14.000000     10.000000      8.000000      3.000000   \n",
       "max        1.000000     26.000000     20.000000     19.000000     15.000000   \n",
       "\n",
       "           v_4_line      v_5_line  \n",
       "count  42000.000000  42000.000000  \n",
       "mean       0.031095      0.000143  \n",
       "std        0.239317      0.013801  \n",
       "min        0.000000      0.000000  \n",
       "25%        0.000000      0.000000  \n",
       "50%        0.000000      0.000000  \n",
       "75%        0.000000      0.000000  \n",
       "max        7.000000      2.000000  "
      ]
     },
     "execution_count": 107,
     "metadata": {},
     "output_type": "execute_result"
    }
   ],
   "source": [
    "df_lines.describe()"
   ]
  },
  {
   "cell_type": "code",
   "execution_count": 120,
   "id": "bcc40798",
   "metadata": {},
   "outputs": [],
   "source": [
    "# helper function to print results\n",
    "from sklearn.metrics import classification_report\n",
    "from sklearn.datasets import make_classification\n",
    "from sklearn.metrics import confusion_matrix, ConfusionMatrixDisplay\n",
    "\n",
    "def show_results(filename, y_test, y_pred):\n",
    "    print(f\"\\nResults for {filename}\\n\")\n",
    "    print(classification_report(y_test, y_pred, zero_division=0)) # hiding zero division warn\n",
    "    cm = confusion_matrix(y_test, y_pred, labels=scaled_logit.classes_)\n",
    "    disp = ConfusionMatrixDisplay(confusion_matrix=cm, display_labels=scaled_logit.classes_)\n",
    "    disp.plot()\n",
    "    plt.grid(visible=None)\n",
    "    plt.show()\n",
    "    # TODO: how to save this as pic?\n",
    "    disp.figure_.savefig(f\"{filename}.png\", dpi=300)"
   ]
  },
  {
   "cell_type": "markdown",
   "id": "d7667111",
   "metadata": {},
   "source": [
    "## Model 1. MN Logit (only INK feature)"
   ]
  },
  {
   "cell_type": "code",
   "execution_count": 121,
   "id": "32a5dcdc",
   "metadata": {
    "scrolled": false
   },
   "outputs": [
    {
     "name": "stdout",
     "output_type": "stream",
     "text": [
      "Took 0.21 seconds to train 1st LOGIT model (ink feature)\n"
     ]
    }
   ],
   "source": [
    "# pipeline setup to facilitate modelling; consolidate training and testing datasets\n",
    "# https://scikit-learn.org/stable/modules/preprocessing.html#preprocessing-scaler\n",
    "\n",
    "from sklearn.datasets import make_classification\n",
    "from sklearn.linear_model import LogisticRegression\n",
    "from sklearn.model_selection import train_test_split\n",
    "from sklearn.pipeline import make_pipeline\n",
    "from sklearn.preprocessing import StandardScaler\n",
    "\n",
    "l1f_features = ink.reshape(-1, 1) # reshaping since it's a single feature\n",
    "# I know the instructions mention we don´t need to do this now,\n",
    "# but I´d rather keep all models (reasonably) consistent\n",
    "l1f_train, l1f_test, y_l1f_train, y_l1f_test = train_test_split(l1f_features, labels, \n",
    "                                                    random_state=42, \n",
    "                                                    test_size=0.2)\n",
    "\n",
    "# this pipeline logic is so we don´t leak data from the test set into the training set\n",
    "scaled_logit = make_pipeline(StandardScaler(), LogisticRegression())\n",
    "start_t1 = perf_counter()\n",
    "scaled_logit.fit(l1f_train, y_l1f_train)  # apply scaling on training data\n",
    "scaled_logit.score(l1f_test, y_l1f_test)\n",
    "end_t1 = perf_counter()\n",
    "print(f\"Took {end_t1-start_t1:.2f} seconds to train 1st LOGIT model (ink feature)\")\n",
    "y_l1f_pred = scaled_logit.predict(l1f_test)"
   ]
  },
  {
   "cell_type": "code",
   "execution_count": 122,
   "id": "c8d7a40b",
   "metadata": {
    "scrolled": false
   },
   "outputs": [
    {
     "name": "stdout",
     "output_type": "stream",
     "text": [
      "\n",
      "Results for mn_logit-ink_feature\n",
      "\n",
      "              precision    recall  f1-score   support\n",
      "\n",
      "           0       0.25      0.58      0.35       816\n",
      "           1       0.43      0.84      0.57       909\n",
      "           2       0.14      0.10      0.12       846\n",
      "           3       0.14      0.20      0.16       937\n",
      "           4       0.00      0.00      0.00       839\n",
      "           5       0.00      0.00      0.00       702\n",
      "           6       0.09      0.02      0.04       785\n",
      "           7       0.16      0.38      0.22       893\n",
      "           8       0.00      0.00      0.00       835\n",
      "           9       0.16      0.08      0.11       838\n",
      "\n",
      "    accuracy                           0.23      8400\n",
      "   macro avg       0.14      0.22      0.16      8400\n",
      "weighted avg       0.14      0.23      0.16      8400\n",
      "\n"
     ]
    },
    {
     "data": {
      "image/png": "[encoded data removed]",
      "text/plain": [
       "<Figure size 432x288 with 2 Axes>"
      ]
     },
     "metadata": {
      "needs_background": "light"
     },
     "output_type": "display_data"
    }
   ],
   "source": [
    "show_results(\"mn_logit-ink_feature\", y_l1f_test, y_l1f_pred)"
   ]
  },
  {
   "cell_type": "markdown",
   "id": "33b71209",
   "metadata": {},
   "source": [
    "## Model 2. MN Logit (INK feature + Our Feature)"
   ]
  },
  {
   "cell_type": "code",
   "execution_count": 123,
   "id": "03c4a354",
   "metadata": {},
   "outputs": [
    {
     "name": "stdout",
     "output_type": "stream",
     "text": [
      "Took 106.11 seconds to train 2nd LOGIT model (both features)\n"
     ]
    },
    {
     "name": "stderr",
     "output_type": "stream",
     "text": [
      "/usr/lib64/python3.11/site-packages/sklearn/linear_model/_sag.py:350: ConvergenceWarning: The max_iter was reached which means the coef_ did not converge\n",
      "  warnings.warn(\n"
     ]
    }
   ],
   "source": [
    "df_lines[\"ink\"] = ink\n",
    "l2f_features = df_lines\n",
    "l2f_train, l2f_test, y_l2f_train, y_l2f_test = train_test_split(l2f_features, labels, \n",
    "                                                    random_state=42, \n",
    "                                                    test_size=0.2)\n",
    "\n",
    "# this pipeline logic is so we don´t leak data from the test set into the training set\n",
    "scaled_logit = make_pipeline(\n",
    "    StandardScaler(), \n",
    "    LogisticRegression(C=0.5, max_iter=2000, penalty='l1', solver='saga')\n",
    ")\n",
    "start_t2 = perf_counter()\n",
    "scaled_logit.fit(l2f_train, y_l2f_train)  # apply scaling on training data\n",
    "scaled_logit.score(l2f_test, y_l2f_test)\n",
    "end_t2 = perf_counter()\n",
    "print(f\"Took {end_t2-start_t2:.2f} seconds to train 2nd LOGIT model (both features)\")\n",
    "y_l2f_pred = scaled_logit.predict(l2f_test)"
   ]
  },
  {
   "cell_type": "code",
   "execution_count": 124,
   "id": "baccaac7",
   "metadata": {},
   "outputs": [
    {
     "name": "stdout",
     "output_type": "stream",
     "text": [
      "\n",
      "Results for MN LOGIT - BOTH FEATURES\n",
      "\n",
      "              precision    recall  f1-score   support\n",
      "\n",
      "           0       0.86      0.93      0.90       816\n",
      "           1       0.90      0.96      0.93       909\n",
      "           2       0.42      0.41      0.42       846\n",
      "           3       0.58      0.63      0.61       937\n",
      "           4       0.73      0.79      0.76       839\n",
      "           5       0.45      0.41      0.43       702\n",
      "           6       0.46      0.33      0.38       785\n",
      "           7       0.56      0.62      0.59       893\n",
      "           8       0.56      0.55      0.55       835\n",
      "           9       0.45      0.42      0.44       838\n",
      "\n",
      "    accuracy                           0.61      8400\n",
      "   macro avg       0.60      0.61      0.60      8400\n",
      "weighted avg       0.60      0.61      0.61      8400\n",
      "\n"
     ]
    },
    {
     "data": {
      "image/png": "[encoded data removed]",
      "text/plain": [
       "<Figure size 432x288 with 2 Axes>"
      ]
     },
     "metadata": {
      "needs_background": "light"
     },
     "output_type": "display_data"
    }
   ],
   "source": [
    "show_results(\"MN LOGIT - BOTH FEATURES\", y_l2f_test, y_l2f_pred)"
   ]
  },
  {
   "cell_type": "markdown",
   "id": "fb947b1b",
   "metadata": {},
   "source": [
    "# Part 2. All Pixel Values Models\n",
    "_**NOTE: Both with 196 (14*14 pixels) features (all resized pixel values)**_\n",
    "\n",
    "- Model 3. (Regularized?) MN Logit (w/ LASSO penalty) \n",
    "- Model 4. Support Vector Machines (SVM)"
   ]
  },
  {
   "cell_type": "code",
   "execution_count": 129,
   "id": "0e8c33cb",
   "metadata": {},
   "outputs": [],
   "source": [
    "# separating training and test samples\n",
    "p2_features = digitsResized\n",
    "p2_train, p2_test, y_p2_train, y_p2_test = train_test_split(p2_features, labels, \n",
    "                                                    random_state=42, \n",
    "                                                    test_size=0.6)"
   ]
  },
  {
   "cell_type": "markdown",
   "id": "9b6104e9",
   "metadata": {},
   "source": [
    "### MN Logit (w/ LASSO penalty)"
   ]
  },
  {
   "cell_type": "code",
   "execution_count": 130,
   "id": "f5300729",
   "metadata": {
    "scrolled": true
   },
   "outputs": [
    {
     "name": "stdout",
     "output_type": "stream",
     "text": [
      "Took 235.71 seconds to train LOGIT model (all pixel values)\n"
     ]
    },
    {
     "name": "stderr",
     "output_type": "stream",
     "text": [
      "/usr/lib64/python3.11/site-packages/sklearn/linear_model/_sag.py:350: ConvergenceWarning: The max_iter was reached which means the coef_ did not converge\n",
      "  warnings.warn(\n"
     ]
    }
   ],
   "source": [
    "from sklearn.linear_model import LogisticRegression\n",
    "\n",
    "# saga is the only solver that supports l1 penalty and multi-class problems\n",
    "# arr = np.array([ink_mean, ink_std])\n",
    "# print(pd.DataFrame(arr))\n",
    "# print(df.loc[:, (df.sum() > 0).all()])\n",
    "\n",
    "p2_logit = make_pipeline(\n",
    "    StandardScaler(), \n",
    "    LogisticRegression(C=0.5, max_iter=1000, penalty='l1', solver='saga')\n",
    ")\n",
    "\n",
    "start_p2m1 = perf_counter()\n",
    "p2_logit.fit(p2_train, y_p2_train)\n",
    "p2_logit.score(p2_test, y_p2_test)\n",
    "end_p2m1 = perf_counter()\n",
    "print(f\"Took {end_p2m1-start_p2m1:.2f} seconds to train LOGIT model (all pixel values)\")\n",
    "p2_logit_pred = p2_logit.predict(p2_test)"
   ]
  },
  {
   "cell_type": "code",
   "execution_count": 131,
   "id": "f3d60499",
   "metadata": {},
   "outputs": [
    {
     "name": "stdout",
     "output_type": "stream",
     "text": [
      "\n",
      "Results for MN LOGIT - ALL PIXEL VALUES (14x14)\n",
      "\n",
      "              precision    recall  f1-score   support\n",
      "\n",
      "           0       0.95      0.96      0.96      2468\n",
      "           1       0.95      0.97      0.96      2797\n",
      "           2       0.92      0.90      0.91      2527\n",
      "           3       0.89      0.88      0.89      2634\n",
      "           4       0.92      0.92      0.92      2485\n",
      "           5       0.87      0.87      0.87      2233\n",
      "           6       0.94      0.95      0.95      2489\n",
      "           7       0.93      0.93      0.93      2647\n",
      "           8       0.90      0.88      0.89      2428\n",
      "           9       0.89      0.89      0.89      2492\n",
      "\n",
      "    accuracy                           0.92     25200\n",
      "   macro avg       0.92      0.92      0.92     25200\n",
      "weighted avg       0.92      0.92      0.92     25200\n",
      "\n"
     ]
    },
    {
     "data": {
      "image/png": "[encoded data removed]",
      "text/plain": [
       "<Figure size 432x288 with 2 Axes>"
      ]
     },
     "metadata": {
      "needs_background": "light"
     },
     "output_type": "display_data"
    }
   ],
   "source": [
    "show_results(\"MN LOGIT - ALL PIXEL VALUES (14x14)\", y_p2_test, p2_logit_pred)"
   ]
  },
  {
   "cell_type": "markdown",
   "id": "5abe93e2",
   "metadata": {},
   "source": [
    "### SVM + Grid Search"
   ]
  },
  {
   "cell_type": "code",
   "execution_count": null,
   "id": "77582df2",
   "metadata": {},
   "outputs": [],
   "source": [
    "from sklearn.model_selection import GridSearchCV\n",
    "from sklearn.svm import SVC\n",
    "from tqdm import tqdm\n",
    "\n",
    "# === Note on kernels and params ===\n",
    "# rbf: gamma\n",
    "# linear: x, x'\n",
    "# sigmoid: coef0\n",
    "# poly: degree, coef0\n",
    "#   but coef0 can be safely left unchanged \"in most cases\" according to \n",
    "# https://stackoverflow.com/questions/21390570/scikit-learn-svc-coef0-parameter-range\n",
    "\n",
    "paramGrid = {\n",
    "    'kernel': ['rbf', 'poly', 'linear', 'sigmoid'],\n",
    "    'C': [0.1, 0.5, 0.9, 1.5, 2, 2.5],\n",
    "    'degree': [0.5, 1, 2, 5],\n",
    "    'gamma': ['auto', 'scale'],\n",
    "}\n",
    "\n",
    "grid = GridSearchCV(SVC(), paramGrid, refit=True, verbose=3)\n",
    "grid.fit(X_train2_std, y_train2)"
   ]
  }
 ],
 "metadata": {
  "kernelspec": {
   "display_name": "Python 3 (ipykernel)",
   "language": "python",
   "name": "python3"
  },
  "language_info": {
   "codemirror_mode": {
    "name": "ipython",
    "version": 3
   },
   "file_extension": ".py",
   "mimetype": "text/x-python",
   "name": "python",
   "nbconvert_exporter": "python",
   "pygments_lexer": "ipython3",
   "version": "3.11.0"
  }
 },
 "nbformat": 4,
 "nbformat_minor": 5
}

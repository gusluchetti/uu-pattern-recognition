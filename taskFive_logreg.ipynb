{
 "cells": [
  {
   "cell_type": "markdown",
   "metadata": {},
   "source": [
    "## Part 1: preparing data\n",
    "\n",
    "Load pixel data from CSV file."
   ]
  },
  {
   "cell_type": "code",
   "execution_count": 1,
   "metadata": {},
   "outputs": [],
   "source": [
    "import pandas as pd\n",
    "import matplotlib.pyplot as plt\n",
    "import numpy as np\n",
    "import random\n",
    "\n",
    "\n",
    "img_size = 28\n",
    "mnist_data = pd.read_csv('./mnist.csv').values\n",
    "labels = mnist_data[:, 0]\n",
    "digits = mnist_data[:, 1:]      # DATA: raw digits data"
   ]
  },
  {
   "cell_type": "markdown",
   "metadata": {},
   "source": [
    "#### Resizing the image\n",
    "\n",
    "After multiple attempts at fitting the model, it was observed that the required time for the model to converge was too expensive (in one instance, it does not converge even after 2 hours). Hence it was decided to resize the number of features down to 196 (14 x 14 pixel image)."
   ]
  },
  {
   "cell_type": "code",
   "execution_count": 2,
   "metadata": {},
   "outputs": [],
   "source": [
    "import cv2\n",
    "\n",
    "\n",
    "digitsResized = np.zeros((len(digits), 14*14))\n",
    "\n",
    "for i, d in enumerate(digits):\n",
    "    _d = np.reshape(d, (28, 28)).astype('float32')\n",
    "    resized_d = cv2.resize(_d, (14, 14))\n",
    "    d_ = np.reshape(resized_d, (1, 14*14))\n",
    "    digitsResized[i] = d_\n",
    "\n",
    "# print('Digits resized', np.shape(digitsResized))"
   ]
  },
  {
   "cell_type": "markdown",
   "metadata": {},
   "source": [
    "#### Drop useless features\n",
    "\n",
    "Useless features are those with constant values across all data points, hence cannot be used to distinguish between data."
   ]
  },
  {
   "cell_type": "code",
   "execution_count": 3,
   "metadata": {},
   "outputs": [],
   "source": [
    "def filterConstantFeature(matrix, idx):\n",
    "    return False if np.var(matrix[:, idx]) == 0.0 else True\n",
    "\n",
    "\n",
    "cols_digits = list(range(0, len(digits[0])))\n",
    "usefulCols_digits = [filterConstantFeature(digits, i) for i in cols_digits]\n",
    "digitsFiltered = digits[:, usefulCols_digits]\n",
    "\n",
    "cols_digitsResized = list(range(0, len(digitsResized[0])))\n",
    "usefulCols_digitsResized = [filterConstantFeature(digitsResized, i) for i in cols_digitsResized]\n",
    "digitsResizedFiltered = digitsResized[:, usefulCols_digitsResized]     # DATA: digits -> resized to 14x14 -> dropped constant features.\n",
    "\n",
    "# print(np.shape(digitsResized))\n",
    "# print(np.shape(digitsResizedFiltered))"
   ]
  },
  {
   "cell_type": "markdown",
   "metadata": {},
   "source": [
    "#### End of part 1\n",
    "\n",
    "We have prepared 3 sets of data:\n",
    "- Set 0 has its constant features removed.\n",
    "- Set 1 has its image dimension reduced by half.\n",
    "- Set 2 has both treatments from set 0 and 1.\n",
    "\n",
    "All sets are scaled. We are going to work mainly with set 2. Other sets are supplementary."
   ]
  },
  {
   "cell_type": "code",
   "execution_count": 4,
   "metadata": {},
   "outputs": [],
   "source": [
    "from sklearn.model_selection import train_test_split\n",
    "from sklearn.preprocessing import StandardScaler\n",
    "\n",
    "\n",
    "scaler = StandardScaler()\n",
    "X_train0, X_test0, y_train0, y_test0 = train_test_split(\n",
    "    digitsFiltered, \n",
    "    labels, \n",
    "    train_size=5000, \n",
    "    test_size=37000, \n",
    "    random_state=1\n",
    ")\n",
    "X_train0_std = scaler.fit_transform(X_train0)       # Digits, filtered and scaled.\n",
    "X_test0_std = scaler.transform(X_test0)\n",
    "\n",
    "\n",
    "scaler = StandardScaler()\n",
    "X_train1, X_test1, y_train1, y_test1 = train_test_split(\n",
    "    digitsResized, \n",
    "    labels, \n",
    "    train_size=5000, \n",
    "    test_size=37000, \n",
    "    random_state=1\n",
    ")\n",
    "X_train1_std = scaler.fit_transform(X_train1)       # Digits, resized and scaled.\n",
    "X_test1_std = scaler.transform(X_test1)\n",
    "\n",
    "\n",
    "scaler = StandardScaler()\n",
    "X_train2, X_test2, y_train2, y_test2 = train_test_split(\n",
    "    digitsResizedFiltered, \n",
    "    labels, \n",
    "    train_size=5000,\n",
    "    test_size=37000, \n",
    "    random_state=1\n",
    ")\n",
    "X_train2_std = scaler.fit_transform(X_train2)       # Digits, resized filtered and scaled.\n",
    "X_test2_std = scaler.transform(X_test2)"
   ]
  },
  {
   "cell_type": "markdown",
   "metadata": {},
   "source": [
    "## Part 2: Logistic Regression\n",
    "\n",
    "Parameter tuning for Logistic Regression.\n",
    "\n",
    "Note\n",
    "- the Logreg model does not converge after running for more than 2 hours.\n",
    "- still not converging after 15 minutes.\n",
    "- perhaps the pixels are too few to be able to tell a number's shape, will try to use the non-resized data.\n",
    "- nope. 30 mins in and still not converging."
   ]
  },
  {
   "cell_type": "code",
   "execution_count": 5,
   "metadata": {},
   "outputs": [],
   "source": [
    "def showAccuracyComparisonPlot(title, xlabel, ylabel, x, y1, y2, series1, series2):\n",
    "    fig, ax = plt.subplots()\n",
    "    fig.set_size_inches(5, 3.5)\n",
    "    fig.set_dpi(100)\n",
    "    ax.set_title(title)\n",
    "    ax.set_xlabel(xlabel)\n",
    "    ax.set_ylabel(ylabel)\n",
    "    \n",
    "    ax.plot(x, y1, marker=\"o\", label=series1, drawstyle=\"steps-post\")\n",
    "    ax.plot(x, y2, marker=\"o\", label=series2, drawstyle=\"steps-post\")\n",
    "    \n",
    "    ax.legend()\n",
    "    plt.show()\n",
    "    # fig.savefig(\"accuracy-decisiontree-alpha.eps\", format='eps', dpi=75)"
   ]
  },
  {
   "cell_type": "markdown",
   "metadata": {},
   "source": [
    "It keeps on not converging using LogisticRegressionCV. So I decided to search manually."
   ]
  },
  {
   "cell_type": "code",
   "execution_count": 9,
   "metadata": {},
   "outputs": [
    {
     "name": "stderr",
     "output_type": "stream",
     "text": [
      "  0%|          | 0/8 [00:00<?, ?it/s]/Library/Frameworks/Python.framework/Versions/3.10/lib/python3.10/site-packages/sklearn/linear_model/_sag.py:350: ConvergenceWarning: The max_iter was reached which means the coef_ did not converge\n",
      "  warnings.warn(\n",
      " 12%|█▎        | 1/8 [00:32<03:49, 32.79s/it]/Library/Frameworks/Python.framework/Versions/3.10/lib/python3.10/site-packages/sklearn/linear_model/_sag.py:350: ConvergenceWarning: The max_iter was reached which means the coef_ did not converge\n",
      "  warnings.warn(\n",
      " 25%|██▌       | 2/8 [01:15<03:53, 38.90s/it]/Library/Frameworks/Python.framework/Versions/3.10/lib/python3.10/site-packages/sklearn/linear_model/_sag.py:350: ConvergenceWarning: The max_iter was reached which means the coef_ did not converge\n",
      "  warnings.warn(\n",
      " 38%|███▊      | 3/8 [01:58<03:22, 40.54s/it]/Library/Frameworks/Python.framework/Versions/3.10/lib/python3.10/site-packages/sklearn/linear_model/_sag.py:350: ConvergenceWarning: The max_iter was reached which means the coef_ did not converge\n",
      "  warnings.warn(\n",
      " 50%|█████     | 4/8 [02:49<02:58, 44.58s/it]/Library/Frameworks/Python.framework/Versions/3.10/lib/python3.10/site-packages/sklearn/linear_model/_sag.py:350: ConvergenceWarning: The max_iter was reached which means the coef_ did not converge\n",
      "  warnings.warn(\n",
      " 62%|██████▎   | 5/8 [03:35<02:15, 45.11s/it]/Library/Frameworks/Python.framework/Versions/3.10/lib/python3.10/site-packages/sklearn/linear_model/_sag.py:350: ConvergenceWarning: The max_iter was reached which means the coef_ did not converge\n",
      "  warnings.warn(\n",
      " 75%|███████▌  | 6/8 [04:14<01:26, 43.26s/it]/Library/Frameworks/Python.framework/Versions/3.10/lib/python3.10/site-packages/sklearn/linear_model/_sag.py:350: ConvergenceWarning: The max_iter was reached which means the coef_ did not converge\n",
      "  warnings.warn(\n",
      " 88%|████████▊ | 7/8 [04:55<00:42, 42.52s/it]/Library/Frameworks/Python.framework/Versions/3.10/lib/python3.10/site-packages/sklearn/linear_model/_sag.py:350: ConvergenceWarning: The max_iter was reached which means the coef_ did not converge\n",
      "  warnings.warn(\n",
      "100%|██████████| 8/8 [05:37<00:00, 42.16s/it]\n"
     ]
    },
    {
     "data": {
      "image/png": "[encoded data removed]",
      "text/plain": [
       "<Figure size 500x350 with 1 Axes>"
      ]
     },
     "metadata": {},
     "output_type": "display_data"
    }
   ],
   "source": [
    "from sklearn.linear_model import LogisticRegression\n",
    "from tqdm import tqdm\n",
    "\n",
    "\n",
    "paramC = [0.1, 0.5, 1, 2, 3, 5, 8, 13]\n",
    "trainScores = np.zeros(len(paramC))\n",
    "testScores = np.zeros(len(paramC))\n",
    "\n",
    "for i, c in enumerate(tqdm(paramC)):\n",
    "    m = LogisticRegression(C=c, penalty='l1', solver='saga', random_state=0, max_iter=1000)\n",
    "    m.fit(X_train2_std, y_train2)\n",
    "    \n",
    "    trainScores[i] = m.score(X_train2_std, y_train2)\n",
    "    testScores[i] = m.score(X_test2_std, y_test2)\n",
    "\n",
    "showAccuracyComparisonPlot(\"Logistic regression, param C\", 'C', 'Accuracy', paramC, trainScores, testScores, \"Training scores\", \"Testing scores\")"
   ]
  },
  {
   "cell_type": "markdown",
   "metadata": {},
   "source": [
    "It seems that C between 0 and 2 is optimal. We'll do a grid search CV around this value."
   ]
  },
  {
   "cell_type": "code",
   "execution_count": 14,
   "metadata": {},
   "outputs": [
    {
     "name": "stdout",
     "output_type": "stream",
     "text": [
      "Fitting 5 folds for each of 12 candidates, totalling 60 fits\n",
      "[CV 1/5] END ..........C=0.01, solver=liblinear;, score=0.806 total time=   0.6s\n",
      "[CV 2/5] END ..........C=0.01, solver=liblinear;, score=0.820 total time=   0.5s\n",
      "[CV 3/5] END ..........C=0.01, solver=liblinear;, score=0.783 total time=   0.5s\n",
      "[CV 4/5] END ..........C=0.01, solver=liblinear;, score=0.819 total time=   0.4s\n",
      "[CV 5/5] END ..........C=0.01, solver=liblinear;, score=0.804 total time=   0.4s\n",
      "[CV 1/5] END ...............C=0.01, solver=saga;, score=0.802 total time=  19.4s\n",
      "[CV 2/5] END ...............C=0.01, solver=saga;, score=0.826 total time=  18.9s\n",
      "[CV 3/5] END ...............C=0.01, solver=saga;, score=0.786 total time=  15.7s\n",
      "[CV 4/5] END ...............C=0.01, solver=saga;, score=0.828 total time=  15.4s\n",
      "[CV 5/5] END ...............C=0.01, solver=saga;, score=0.804 total time=  17.6s\n",
      "[CV 1/5] END ...........C=0.1, solver=liblinear;, score=0.890 total time=   0.8s\n",
      "[CV 2/5] END ...........C=0.1, solver=liblinear;, score=0.891 total time=   0.8s\n",
      "[CV 3/5] END ...........C=0.1, solver=liblinear;, score=0.878 total time=   0.8s\n",
      "[CV 4/5] END ...........C=0.1, solver=liblinear;, score=0.905 total time=   0.8s\n",
      "[CV 5/5] END ...........C=0.1, solver=liblinear;, score=0.875 total time=   0.8s\n",
      "[CV 1/5] END ................C=0.1, solver=saga;, score=0.894 total time= 1.2min\n",
      "[CV 2/5] END ................C=0.1, solver=saga;, score=0.895 total time= 1.3min\n",
      "[CV 3/5] END ................C=0.1, solver=saga;, score=0.873 total time= 1.6min\n",
      "[CV 4/5] END ................C=0.1, solver=saga;, score=0.902 total time= 1.2min\n",
      "[CV 5/5] END ................C=0.1, solver=saga;, score=0.880 total time=  53.9s\n",
      "[CV 1/5] END ...........C=0.5, solver=liblinear;, score=0.893 total time=   2.2s\n",
      "[CV 2/5] END ...........C=0.5, solver=liblinear;, score=0.893 total time=   2.3s\n",
      "[CV 3/5] END ...........C=0.5, solver=liblinear;, score=0.890 total time=   2.3s\n",
      "[CV 4/5] END ...........C=0.5, solver=liblinear;, score=0.904 total time=   2.7s\n",
      "[CV 5/5] END ...........C=0.5, solver=liblinear;, score=0.880 total time=   2.2s\n"
     ]
    },
    {
     "name": "stderr",
     "output_type": "stream",
     "text": [
      "/Library/Frameworks/Python.framework/Versions/3.10/lib/python3.10/site-packages/sklearn/linear_model/_sag.py:350: ConvergenceWarning: The max_iter was reached which means the coef_ did not converge\n",
      "  warnings.warn(\n"
     ]
    },
    {
     "name": "stdout",
     "output_type": "stream",
     "text": [
      "[CV 1/5] END ................C=0.5, solver=saga;, score=0.900 total time= 1.5min\n"
     ]
    },
    {
     "name": "stderr",
     "output_type": "stream",
     "text": [
      "/Library/Frameworks/Python.framework/Versions/3.10/lib/python3.10/site-packages/sklearn/linear_model/_sag.py:350: ConvergenceWarning: The max_iter was reached which means the coef_ did not converge\n",
      "  warnings.warn(\n"
     ]
    },
    {
     "name": "stdout",
     "output_type": "stream",
     "text": [
      "[CV 2/5] END ................C=0.5, solver=saga;, score=0.909 total time= 1.5min\n"
     ]
    },
    {
     "name": "stderr",
     "output_type": "stream",
     "text": [
      "/Library/Frameworks/Python.framework/Versions/3.10/lib/python3.10/site-packages/sklearn/linear_model/_sag.py:350: ConvergenceWarning: The max_iter was reached which means the coef_ did not converge\n",
      "  warnings.warn(\n"
     ]
    },
    {
     "name": "stdout",
     "output_type": "stream",
     "text": [
      "[CV 3/5] END ................C=0.5, solver=saga;, score=0.887 total time= 1.5min\n"
     ]
    },
    {
     "name": "stderr",
     "output_type": "stream",
     "text": [
      "/Library/Frameworks/Python.framework/Versions/3.10/lib/python3.10/site-packages/sklearn/linear_model/_sag.py:350: ConvergenceWarning: The max_iter was reached which means the coef_ did not converge\n",
      "  warnings.warn(\n"
     ]
    },
    {
     "name": "stdout",
     "output_type": "stream",
     "text": [
      "[CV 4/5] END ................C=0.5, solver=saga;, score=0.909 total time= 1.5min\n"
     ]
    },
    {
     "name": "stderr",
     "output_type": "stream",
     "text": [
      "/Library/Frameworks/Python.framework/Versions/3.10/lib/python3.10/site-packages/sklearn/linear_model/_sag.py:350: ConvergenceWarning: The max_iter was reached which means the coef_ did not converge\n",
      "  warnings.warn(\n"
     ]
    },
    {
     "name": "stdout",
     "output_type": "stream",
     "text": [
      "[CV 5/5] END ................C=0.5, solver=saga;, score=0.875 total time= 1.5min\n",
      "[CV 1/5] END .............C=1, solver=liblinear;, score=0.894 total time=   4.0s\n",
      "[CV 2/5] END .............C=1, solver=liblinear;, score=0.893 total time=   3.4s\n",
      "[CV 3/5] END .............C=1, solver=liblinear;, score=0.892 total time=   3.6s\n",
      "[CV 4/5] END .............C=1, solver=liblinear;, score=0.902 total time=   3.2s\n",
      "[CV 5/5] END .............C=1, solver=liblinear;, score=0.878 total time=   3.4s\n"
     ]
    },
    {
     "name": "stderr",
     "output_type": "stream",
     "text": [
      "/Library/Frameworks/Python.framework/Versions/3.10/lib/python3.10/site-packages/sklearn/linear_model/_sag.py:350: ConvergenceWarning: The max_iter was reached which means the coef_ did not converge\n",
      "  warnings.warn(\n"
     ]
    },
    {
     "name": "stdout",
     "output_type": "stream",
     "text": [
      "[CV 1/5] END ..................C=1, solver=saga;, score=0.892 total time= 1.6min\n"
     ]
    },
    {
     "name": "stderr",
     "output_type": "stream",
     "text": [
      "/Library/Frameworks/Python.framework/Versions/3.10/lib/python3.10/site-packages/sklearn/linear_model/_sag.py:350: ConvergenceWarning: The max_iter was reached which means the coef_ did not converge\n",
      "  warnings.warn(\n"
     ]
    },
    {
     "name": "stdout",
     "output_type": "stream",
     "text": [
      "[CV 2/5] END ..................C=1, solver=saga;, score=0.903 total time= 1.6min\n"
     ]
    },
    {
     "name": "stderr",
     "output_type": "stream",
     "text": [
      "/Library/Frameworks/Python.framework/Versions/3.10/lib/python3.10/site-packages/sklearn/linear_model/_sag.py:350: ConvergenceWarning: The max_iter was reached which means the coef_ did not converge\n",
      "  warnings.warn(\n"
     ]
    },
    {
     "name": "stdout",
     "output_type": "stream",
     "text": [
      "[CV 3/5] END ..................C=1, solver=saga;, score=0.884 total time= 1.6min\n"
     ]
    },
    {
     "name": "stderr",
     "output_type": "stream",
     "text": [
      "/Library/Frameworks/Python.framework/Versions/3.10/lib/python3.10/site-packages/sklearn/linear_model/_sag.py:350: ConvergenceWarning: The max_iter was reached which means the coef_ did not converge\n",
      "  warnings.warn(\n"
     ]
    },
    {
     "name": "stdout",
     "output_type": "stream",
     "text": [
      "[CV 4/5] END ..................C=1, solver=saga;, score=0.905 total time= 1.5min\n"
     ]
    },
    {
     "name": "stderr",
     "output_type": "stream",
     "text": [
      "/Library/Frameworks/Python.framework/Versions/3.10/lib/python3.10/site-packages/sklearn/linear_model/_sag.py:350: ConvergenceWarning: The max_iter was reached which means the coef_ did not converge\n",
      "  warnings.warn(\n"
     ]
    },
    {
     "name": "stdout",
     "output_type": "stream",
     "text": [
      "[CV 5/5] END ..................C=1, solver=saga;, score=0.880 total time= 1.5min\n",
      "[CV 1/5] END .............C=2, solver=liblinear;, score=0.887 total time=   4.7s\n",
      "[CV 2/5] END .............C=2, solver=liblinear;, score=0.891 total time=   5.0s\n",
      "[CV 3/5] END .............C=2, solver=liblinear;, score=0.884 total time=   6.4s\n",
      "[CV 4/5] END .............C=2, solver=liblinear;, score=0.897 total time=   5.5s\n",
      "[CV 5/5] END .............C=2, solver=liblinear;, score=0.877 total time=   4.9s\n"
     ]
    },
    {
     "name": "stderr",
     "output_type": "stream",
     "text": [
      "/Library/Frameworks/Python.framework/Versions/3.10/lib/python3.10/site-packages/sklearn/linear_model/_sag.py:350: ConvergenceWarning: The max_iter was reached which means the coef_ did not converge\n",
      "  warnings.warn(\n"
     ]
    },
    {
     "name": "stdout",
     "output_type": "stream",
     "text": [
      "[CV 1/5] END ..................C=2, solver=saga;, score=0.892 total time= 1.8min\n"
     ]
    },
    {
     "name": "stderr",
     "output_type": "stream",
     "text": [
      "/Library/Frameworks/Python.framework/Versions/3.10/lib/python3.10/site-packages/sklearn/linear_model/_sag.py:350: ConvergenceWarning: The max_iter was reached which means the coef_ did not converge\n",
      "  warnings.warn(\n"
     ]
    },
    {
     "name": "stdout",
     "output_type": "stream",
     "text": [
      "[CV 2/5] END ..................C=2, solver=saga;, score=0.903 total time= 1.8min\n"
     ]
    },
    {
     "name": "stderr",
     "output_type": "stream",
     "text": [
      "/Library/Frameworks/Python.framework/Versions/3.10/lib/python3.10/site-packages/sklearn/linear_model/_sag.py:350: ConvergenceWarning: The max_iter was reached which means the coef_ did not converge\n",
      "  warnings.warn(\n"
     ]
    },
    {
     "name": "stdout",
     "output_type": "stream",
     "text": [
      "[CV 3/5] END ..................C=2, solver=saga;, score=0.885 total time= 2.0min\n"
     ]
    },
    {
     "name": "stderr",
     "output_type": "stream",
     "text": [
      "/Library/Frameworks/Python.framework/Versions/3.10/lib/python3.10/site-packages/sklearn/linear_model/_sag.py:350: ConvergenceWarning: The max_iter was reached which means the coef_ did not converge\n",
      "  warnings.warn(\n"
     ]
    },
    {
     "name": "stdout",
     "output_type": "stream",
     "text": [
      "[CV 4/5] END ..................C=2, solver=saga;, score=0.901 total time= 1.7min\n"
     ]
    },
    {
     "name": "stderr",
     "output_type": "stream",
     "text": [
      "/Library/Frameworks/Python.framework/Versions/3.10/lib/python3.10/site-packages/sklearn/linear_model/_sag.py:350: ConvergenceWarning: The max_iter was reached which means the coef_ did not converge\n",
      "  warnings.warn(\n"
     ]
    },
    {
     "name": "stdout",
     "output_type": "stream",
     "text": [
      "[CV 5/5] END ..................C=2, solver=saga;, score=0.877 total time= 1.7min\n",
      "[CV 1/5] END .............C=3, solver=liblinear;, score=0.883 total time=   7.6s\n",
      "[CV 2/5] END .............C=3, solver=liblinear;, score=0.882 total time=   8.4s\n",
      "[CV 3/5] END .............C=3, solver=liblinear;, score=0.881 total time=  10.5s\n",
      "[CV 4/5] END .............C=3, solver=liblinear;, score=0.897 total time=   8.7s\n",
      "[CV 5/5] END .............C=3, solver=liblinear;, score=0.871 total time=   7.9s\n"
     ]
    },
    {
     "name": "stderr",
     "output_type": "stream",
     "text": [
      "/Library/Frameworks/Python.framework/Versions/3.10/lib/python3.10/site-packages/sklearn/linear_model/_sag.py:350: ConvergenceWarning: The max_iter was reached which means the coef_ did not converge\n",
      "  warnings.warn(\n"
     ]
    },
    {
     "name": "stdout",
     "output_type": "stream",
     "text": [
      "[CV 1/5] END ..................C=3, solver=saga;, score=0.885 total time= 1.7min\n"
     ]
    },
    {
     "name": "stderr",
     "output_type": "stream",
     "text": [
      "/Library/Frameworks/Python.framework/Versions/3.10/lib/python3.10/site-packages/sklearn/linear_model/_sag.py:350: ConvergenceWarning: The max_iter was reached which means the coef_ did not converge\n",
      "  warnings.warn(\n"
     ]
    },
    {
     "name": "stdout",
     "output_type": "stream",
     "text": [
      "[CV 2/5] END ..................C=3, solver=saga;, score=0.901 total time= 1.7min\n"
     ]
    },
    {
     "name": "stderr",
     "output_type": "stream",
     "text": [
      "/Library/Frameworks/Python.framework/Versions/3.10/lib/python3.10/site-packages/sklearn/linear_model/_sag.py:350: ConvergenceWarning: The max_iter was reached which means the coef_ did not converge\n",
      "  warnings.warn(\n"
     ]
    },
    {
     "name": "stdout",
     "output_type": "stream",
     "text": [
      "[CV 3/5] END ..................C=3, solver=saga;, score=0.885 total time= 1.8min\n"
     ]
    },
    {
     "name": "stderr",
     "output_type": "stream",
     "text": [
      "/Library/Frameworks/Python.framework/Versions/3.10/lib/python3.10/site-packages/sklearn/linear_model/_sag.py:350: ConvergenceWarning: The max_iter was reached which means the coef_ did not converge\n",
      "  warnings.warn(\n"
     ]
    },
    {
     "name": "stdout",
     "output_type": "stream",
     "text": [
      "[CV 4/5] END ..................C=3, solver=saga;, score=0.900 total time= 1.8min\n"
     ]
    },
    {
     "name": "stderr",
     "output_type": "stream",
     "text": [
      "/Library/Frameworks/Python.framework/Versions/3.10/lib/python3.10/site-packages/sklearn/linear_model/_sag.py:350: ConvergenceWarning: The max_iter was reached which means the coef_ did not converge\n",
      "  warnings.warn(\n"
     ]
    },
    {
     "name": "stdout",
     "output_type": "stream",
     "text": [
      "[CV 5/5] END ..................C=3, solver=saga;, score=0.879 total time= 1.8min\n"
     ]
    },
    {
     "name": "stderr",
     "output_type": "stream",
     "text": [
      "/Library/Frameworks/Python.framework/Versions/3.10/lib/python3.10/site-packages/sklearn/linear_model/_sag.py:350: ConvergenceWarning: The max_iter was reached which means the coef_ did not converge\n",
      "  warnings.warn(\n"
     ]
    },
    {
     "data": {
      "text/html": [
       "<style>#sk-container-id-2 {color: black;background-color: white;}#sk-container-id-2 pre{padding: 0;}#sk-container-id-2 div.sk-toggleable {background-color: white;}#sk-container-id-2 label.sk-toggleable__label {cursor: pointer;display: block;width: 100%;margin-bottom: 0;padding: 0.3em;box-sizing: border-box;text-align: center;}#sk-container-id-2 label.sk-toggleable__label-arrow:before {content: \"▸\";float: left;margin-right: 0.25em;color: #696969;}#sk-container-id-2 label.sk-toggleable__label-arrow:hover:before {color: black;}#sk-container-id-2 div.sk-estimator:hover label.sk-toggleable__label-arrow:before {color: black;}#sk-container-id-2 div.sk-toggleable__content {max-height: 0;max-width: 0;overflow: hidden;text-align: left;background-color: #f0f8ff;}#sk-container-id-2 div.sk-toggleable__content pre {margin: 0.2em;color: black;border-radius: 0.25em;background-color: #f0f8ff;}#sk-container-id-2 input.sk-toggleable__control:checked~div.sk-toggleable__content {max-height: 200px;max-width: 100%;overflow: auto;}#sk-container-id-2 input.sk-toggleable__control:checked~label.sk-toggleable__label-arrow:before {content: \"▾\";}#sk-container-id-2 div.sk-estimator input.sk-toggleable__control:checked~label.sk-toggleable__label {background-color: #d4ebff;}#sk-container-id-2 div.sk-label input.sk-toggleable__control:checked~label.sk-toggleable__label {background-color: #d4ebff;}#sk-container-id-2 input.sk-hidden--visually {border: 0;clip: rect(1px 1px 1px 1px);clip: rect(1px, 1px, 1px, 1px);height: 1px;margin: -1px;overflow: hidden;padding: 0;position: absolute;width: 1px;}#sk-container-id-2 div.sk-estimator {font-family: monospace;background-color: #f0f8ff;border: 1px dotted black;border-radius: 0.25em;box-sizing: border-box;margin-bottom: 0.5em;}#sk-container-id-2 div.sk-estimator:hover {background-color: #d4ebff;}#sk-container-id-2 div.sk-parallel-item::after {content: \"\";width: 100%;border-bottom: 1px solid gray;flex-grow: 1;}#sk-container-id-2 div.sk-label:hover label.sk-toggleable__label {background-color: #d4ebff;}#sk-container-id-2 div.sk-serial::before {content: \"\";position: absolute;border-left: 1px solid gray;box-sizing: border-box;top: 0;bottom: 0;left: 50%;z-index: 0;}#sk-container-id-2 div.sk-serial {display: flex;flex-direction: column;align-items: center;background-color: white;padding-right: 0.2em;padding-left: 0.2em;position: relative;}#sk-container-id-2 div.sk-item {position: relative;z-index: 1;}#sk-container-id-2 div.sk-parallel {display: flex;align-items: stretch;justify-content: center;background-color: white;position: relative;}#sk-container-id-2 div.sk-item::before, #sk-container-id-2 div.sk-parallel-item::before {content: \"\";position: absolute;border-left: 1px solid gray;box-sizing: border-box;top: 0;bottom: 0;left: 50%;z-index: -1;}#sk-container-id-2 div.sk-parallel-item {display: flex;flex-direction: column;z-index: 1;position: relative;background-color: white;}#sk-container-id-2 div.sk-parallel-item:first-child::after {align-self: flex-end;width: 50%;}#sk-container-id-2 div.sk-parallel-item:last-child::after {align-self: flex-start;width: 50%;}#sk-container-id-2 div.sk-parallel-item:only-child::after {width: 0;}#sk-container-id-2 div.sk-dashed-wrapped {border: 1px dashed gray;margin: 0 0.4em 0.5em 0.4em;box-sizing: border-box;padding-bottom: 0.4em;background-color: white;}#sk-container-id-2 div.sk-label label {font-family: monospace;font-weight: bold;display: inline-block;line-height: 1.2em;}#sk-container-id-2 div.sk-label-container {text-align: center;}#sk-container-id-2 div.sk-container {/* jupyter's `normalize.less` sets `[hidden] { display: none; }` but bootstrap.min.css set `[hidden] { display: none !important; }` so we also need the `!important` here to be able to override the default hidden behavior on the sphinx rendered scikit-learn.org. See: https://github.com/scikit-learn/scikit-learn/issues/21755 */display: inline-block !important;position: relative;}#sk-container-id-2 div.sk-text-repr-fallback {display: none;}</style><div id=\"sk-container-id-2\" class=\"sk-top-container\"><div class=\"sk-text-repr-fallback\"><pre>GridSearchCV(estimator=LogisticRegression(max_iter=2000, penalty=&#x27;l1&#x27;),\n",
       "             param_grid={&#x27;C&#x27;: [0.01, 0.1, 0.5, 1, 2, 3],\n",
       "                         &#x27;solver&#x27;: [&#x27;liblinear&#x27;, &#x27;saga&#x27;]},\n",
       "             verbose=3)</pre><b>In a Jupyter environment, please rerun this cell to show the HTML representation or trust the notebook. <br />On GitHub, the HTML representation is unable to render, please try loading this page with nbviewer.org.</b></div><div class=\"sk-container\" hidden><div class=\"sk-item sk-dashed-wrapped\"><div class=\"sk-label-container\"><div class=\"sk-label sk-toggleable\"><input class=\"sk-toggleable__control sk-hidden--visually\" id=\"sk-estimator-id-4\" type=\"checkbox\" ><label for=\"sk-estimator-id-4\" class=\"sk-toggleable__label sk-toggleable__label-arrow\">GridSearchCV</label><div class=\"sk-toggleable__content\"><pre>GridSearchCV(estimator=LogisticRegression(max_iter=2000, penalty=&#x27;l1&#x27;),\n",
       "             param_grid={&#x27;C&#x27;: [0.01, 0.1, 0.5, 1, 2, 3],\n",
       "                         &#x27;solver&#x27;: [&#x27;liblinear&#x27;, &#x27;saga&#x27;]},\n",
       "             verbose=3)</pre></div></div></div><div class=\"sk-parallel\"><div class=\"sk-parallel-item\"><div class=\"sk-item\"><div class=\"sk-label-container\"><div class=\"sk-label sk-toggleable\"><input class=\"sk-toggleable__control sk-hidden--visually\" id=\"sk-estimator-id-5\" type=\"checkbox\" ><label for=\"sk-estimator-id-5\" class=\"sk-toggleable__label sk-toggleable__label-arrow\">estimator: LogisticRegression</label><div class=\"sk-toggleable__content\"><pre>LogisticRegression(max_iter=2000, penalty=&#x27;l1&#x27;)</pre></div></div></div><div class=\"sk-serial\"><div class=\"sk-item\"><div class=\"sk-estimator sk-toggleable\"><input class=\"sk-toggleable__control sk-hidden--visually\" id=\"sk-estimator-id-6\" type=\"checkbox\" ><label for=\"sk-estimator-id-6\" class=\"sk-toggleable__label sk-toggleable__label-arrow\">LogisticRegression</label><div class=\"sk-toggleable__content\"><pre>LogisticRegression(max_iter=2000, penalty=&#x27;l1&#x27;)</pre></div></div></div></div></div></div></div></div></div></div>"
      ],
      "text/plain": [
       "GridSearchCV(estimator=LogisticRegression(max_iter=2000, penalty='l1'),\n",
       "             param_grid={'C': [0.01, 0.1, 0.5, 1, 2, 3],\n",
       "                         'solver': ['liblinear', 'saga']},\n",
       "             verbose=3)"
      ]
     },
     "execution_count": 14,
     "metadata": {},
     "output_type": "execute_result"
    }
   ],
   "source": [
    "from sklearn.model_selection import GridSearchCV\n",
    "\n",
    "\n",
    "paramGrid = {\n",
    "    'solver': ['liblinear', 'saga'],\n",
    "    'C': [0.01, 0.1, 0.5, 1, 2, 3],\n",
    "}\n",
    "\n",
    "grid = GridSearchCV(LogisticRegression(penalty='l1', max_iter=5000), paramGrid, refit=True, verbose=3)\n",
    "grid.fit(X_train2_std, y_train2)"
   ]
  },
  {
   "cell_type": "code",
   "execution_count": 15,
   "metadata": {},
   "outputs": [
    {
     "name": "stdout",
     "output_type": "stream",
     "text": [
      "Best estimator: LogisticRegression(C=0.5, max_iter=2000, penalty='l1', solver='saga')\n",
      "Best params: {'C': 0.5, 'solver': 'saga'}\n",
      "Best score from cross-validation: 0.8960000000000001\n",
      "\n",
      "Performance on unseen data:\n",
      "              precision    recall  f1-score   support\n",
      "\n",
      "           0       0.95      0.95      0.95      3651\n",
      "           1       0.93      0.97      0.95      4112\n",
      "           2       0.87      0.89      0.88      3674\n",
      "           3       0.87      0.86      0.87      3807\n",
      "           4       0.90      0.91      0.90      3582\n",
      "           5       0.85      0.85      0.85      3345\n",
      "           6       0.94      0.92      0.93      3656\n",
      "           7       0.91      0.91      0.91      3862\n",
      "           8       0.88      0.82      0.85      3592\n",
      "           9       0.89      0.88      0.88      3719\n",
      "\n",
      "    accuracy                           0.90     37000\n",
      "   macro avg       0.90      0.90      0.90     37000\n",
      "weighted avg       0.90      0.90      0.90     37000\n",
      "\n"
     ]
    }
   ],
   "source": [
    "from sklearn.metrics import classification_report, confusion_matrix \n",
    "\n",
    "\n",
    "print('Best estimator:', grid.best_estimator_)\n",
    "print('Best params:', grid.best_params_)\n",
    "print('Best score from cross-validation:', grid.best_score_)\n",
    "\n",
    "print('\\nPerformance on unseen data:')\n",
    "gridPredictions = grid.predict(X_test2_std)\n",
    "print(classification_report(y_test2, gridPredictions))\n",
    "# print(confusion_matrix(y_test2, gridPredictions))"
   ]
  },
  {
   "cell_type": "markdown",
   "metadata": {},
   "source": [
    "Test the recommended parameters + few variations."
   ]
  },
  {
   "cell_type": "code",
   "execution_count": 21,
   "metadata": {},
   "outputs": [],
   "source": [
    "m1 = LogisticRegression(solver='saga', C=0.1, max_iter=5000)\n",
    "m2 = LogisticRegression(solver='saga', C=0.1, max_iter=5000, penalty='l1')\n",
    "m3 = LogisticRegression(solver='saga', C=0.5, max_iter=5000, penalty='l1')\n",
    "\n",
    "m1.fit(X_train2_std, y_train2)\n",
    "m2.fit(X_train2_std, y_train2)\n",
    "m3.fit(X_train2_std, y_train2)\n",
    "\n",
    "print('M1 accuracy on unseen data:', m1.score(X_test2_std, y_test2))\n",
    "print('M2 accuracy on unseen data:', m2.score(X_test2_std, y_test2))\n",
    "print('M3 accuracy on unseen data:', m3.score(X_test2_std, y_test2))"
   ]
  }
 ],
 "metadata": {
  "kernelspec": {
   "display_name": "Python 3.10.7 64-bit",
   "language": "python",
   "name": "python3"
  },
  "language_info": {
   "codemirror_mode": {
    "name": "ipython",
    "version": 3
   },
   "file_extension": ".py",
   "mimetype": "text/x-python",
   "name": "python",
   "nbconvert_exporter": "python",
   "pygments_lexer": "ipython3",
   "version": "3.10.7"
  },
  "orig_nbformat": 4,
  "vscode": {
   "interpreter": {
    "hash": "aee8b7b246df8f9039afb4144a1f6fd8d2ca17a180786b69acc140d282b71a49"
   }
  }
 },
 "nbformat": 4,
 "nbformat_minor": 2
}
